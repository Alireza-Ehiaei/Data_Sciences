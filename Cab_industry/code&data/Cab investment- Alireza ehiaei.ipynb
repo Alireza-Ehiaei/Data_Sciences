{
 "cells": [
  {
   "cell_type": "code",
   "execution_count": 1,
   "metadata": {},
   "outputs": [],
   "source": [
    "import matplotlib as mpl\n",
    "import pandas as pd\n",
    "from matplotlib import pyplot as plt\n",
    "import numpy as np\n",
    "from matplotlib.pyplot import figure\n"
   ]
  },
  {
   "cell_type": "markdown",
   "metadata": {},
   "source": [
    "## Rading and Modifying data files"
   ]
  },
  {
   "cell_type": "code",
   "execution_count": 2,
   "metadata": {},
   "outputs": [],
   "source": [
    "# .set_option() changes behavior globaly in Jupyter Notebooks, so it is not a temporary fix.\n",
    "\n",
    "pd.set_option('display.float_format', lambda x: '%.2f' % x)\n",
    "\n",
    "#Or to almost completely suppress scientific notation without losing precision, try this:\n",
    "#pd.set_option('display.float_format', str)"
   ]
  },
  {
   "cell_type": "markdown",
   "metadata": {},
   "source": [
    "#### Cab_Data"
   ]
  },
  {
   "cell_type": "code",
   "execution_count": 3,
   "metadata": {},
   "outputs": [],
   "source": [
    "Cab_Data=  pd.read_csv(r\"https://raw.githubusercontent.com/DataGlacier/DataSets/main/Cab_Data.csv\")"
   ]
  },
  {
   "cell_type": "code",
   "execution_count": 4,
   "metadata": {},
   "outputs": [],
   "source": [
    "Cab_Data['Profit']=(Cab_Data['Price Charged']-Cab_Data['Cost of Trip'])*Cab_Data['KM Travelled']"
   ]
  },
  {
   "cell_type": "code",
   "execution_count": null,
   "metadata": {
    "scrolled": true
   },
   "outputs": [],
   "source": [
    "Cab_Data"
   ]
  },
  {
   "cell_type": "code",
   "execution_count": null,
   "metadata": {},
   "outputs": [],
   "source": [
    "Cab_Data.describe()"
   ]
  },
  {
   "cell_type": "markdown",
   "metadata": {},
   "source": [
    "#### City_Data"
   ]
  },
  {
   "cell_type": "code",
   "execution_count": 5,
   "metadata": {},
   "outputs": [],
   "source": [
    "city_Data=  pd.read_csv(r\"https://raw.githubusercontent.com/DataGlacier/DataSets/main/City.csv\")"
   ]
  },
  {
   "cell_type": "code",
   "execution_count": null,
   "metadata": {
    "scrolled": true
   },
   "outputs": [],
   "source": [
    "type(city_Data.loc[2,'Population'])"
   ]
  },
  {
   "cell_type": "code",
   "execution_count": 6,
   "metadata": {},
   "outputs": [],
   "source": [
    "city_Data = city_Data.applymap(lambda x: x.replace(',', ''))\n",
    "city_Data['Population'] = pd.to_numeric(city_Data['Population'])\n",
    "city_Data['Users'] = pd.to_numeric(city_Data['Users'])"
   ]
  },
  {
   "cell_type": "code",
   "execution_count": 7,
   "metadata": {},
   "outputs": [
    {
     "data": {
      "text/html": [
       "<div>\n",
       "<style scoped>\n",
       "    .dataframe tbody tr th:only-of-type {\n",
       "        vertical-align: middle;\n",
       "    }\n",
       "\n",
       "    .dataframe tbody tr th {\n",
       "        vertical-align: top;\n",
       "    }\n",
       "\n",
       "    .dataframe thead th {\n",
       "        text-align: right;\n",
       "    }\n",
       "</style>\n",
       "<table border=\"1\" class=\"dataframe\">\n",
       "  <thead>\n",
       "    <tr style=\"text-align: right;\">\n",
       "      <th></th>\n",
       "      <th>City</th>\n",
       "      <th>Population</th>\n",
       "      <th>Users</th>\n",
       "    </tr>\n",
       "  </thead>\n",
       "  <tbody>\n",
       "    <tr>\n",
       "      <th>0</th>\n",
       "      <td>NEW YORK NY</td>\n",
       "      <td>8405837</td>\n",
       "      <td>302149</td>\n",
       "    </tr>\n",
       "    <tr>\n",
       "      <th>1</th>\n",
       "      <td>CHICAGO IL</td>\n",
       "      <td>1955130</td>\n",
       "      <td>164468</td>\n",
       "    </tr>\n",
       "    <tr>\n",
       "      <th>2</th>\n",
       "      <td>LOS ANGELES CA</td>\n",
       "      <td>1595037</td>\n",
       "      <td>144132</td>\n",
       "    </tr>\n",
       "    <tr>\n",
       "      <th>3</th>\n",
       "      <td>MIAMI FL</td>\n",
       "      <td>1339155</td>\n",
       "      <td>17675</td>\n",
       "    </tr>\n",
       "    <tr>\n",
       "      <th>4</th>\n",
       "      <td>SILICON VALLEY</td>\n",
       "      <td>1177609</td>\n",
       "      <td>27247</td>\n",
       "    </tr>\n",
       "    <tr>\n",
       "      <th>5</th>\n",
       "      <td>ORANGE COUNTY</td>\n",
       "      <td>1030185</td>\n",
       "      <td>12994</td>\n",
       "    </tr>\n",
       "    <tr>\n",
       "      <th>6</th>\n",
       "      <td>SAN DIEGO CA</td>\n",
       "      <td>959307</td>\n",
       "      <td>69995</td>\n",
       "    </tr>\n",
       "    <tr>\n",
       "      <th>7</th>\n",
       "      <td>PHOENIX AZ</td>\n",
       "      <td>943999</td>\n",
       "      <td>6133</td>\n",
       "    </tr>\n",
       "    <tr>\n",
       "      <th>8</th>\n",
       "      <td>DALLAS TX</td>\n",
       "      <td>942908</td>\n",
       "      <td>22157</td>\n",
       "    </tr>\n",
       "    <tr>\n",
       "      <th>9</th>\n",
       "      <td>ATLANTA GA</td>\n",
       "      <td>814885</td>\n",
       "      <td>24701</td>\n",
       "    </tr>\n",
       "    <tr>\n",
       "      <th>10</th>\n",
       "      <td>DENVER CO</td>\n",
       "      <td>754233</td>\n",
       "      <td>12421</td>\n",
       "    </tr>\n",
       "    <tr>\n",
       "      <th>11</th>\n",
       "      <td>AUSTIN TX</td>\n",
       "      <td>698371</td>\n",
       "      <td>14978</td>\n",
       "    </tr>\n",
       "    <tr>\n",
       "      <th>12</th>\n",
       "      <td>SEATTLE WA</td>\n",
       "      <td>671238</td>\n",
       "      <td>25063</td>\n",
       "    </tr>\n",
       "    <tr>\n",
       "      <th>13</th>\n",
       "      <td>TUCSON AZ</td>\n",
       "      <td>631442</td>\n",
       "      <td>5712</td>\n",
       "    </tr>\n",
       "    <tr>\n",
       "      <th>15</th>\n",
       "      <td>SACRAMENTO CA</td>\n",
       "      <td>545776</td>\n",
       "      <td>7044</td>\n",
       "    </tr>\n",
       "    <tr>\n",
       "      <th>16</th>\n",
       "      <td>PITTSBURGH PA</td>\n",
       "      <td>542085</td>\n",
       "      <td>3643</td>\n",
       "    </tr>\n",
       "    <tr>\n",
       "      <th>17</th>\n",
       "      <td>WASHINGTON DC</td>\n",
       "      <td>418859</td>\n",
       "      <td>127001</td>\n",
       "    </tr>\n",
       "    <tr>\n",
       "      <th>18</th>\n",
       "      <td>NASHVILLE TN</td>\n",
       "      <td>327225</td>\n",
       "      <td>9270</td>\n",
       "    </tr>\n",
       "    <tr>\n",
       "      <th>19</th>\n",
       "      <td>BOSTON MA</td>\n",
       "      <td>248968</td>\n",
       "      <td>80021</td>\n",
       "    </tr>\n",
       "  </tbody>\n",
       "</table>\n",
       "</div>"
      ],
      "text/plain": [
       "              City  Population   Users\n",
       "0      NEW YORK NY     8405837  302149\n",
       "1       CHICAGO IL     1955130  164468\n",
       "2   LOS ANGELES CA     1595037  144132\n",
       "3         MIAMI FL     1339155   17675\n",
       "4   SILICON VALLEY     1177609   27247\n",
       "5    ORANGE COUNTY     1030185   12994\n",
       "6     SAN DIEGO CA      959307   69995\n",
       "7       PHOENIX AZ      943999    6133\n",
       "8        DALLAS TX      942908   22157\n",
       "9       ATLANTA GA      814885   24701\n",
       "10       DENVER CO      754233   12421\n",
       "11       AUSTIN TX      698371   14978\n",
       "12      SEATTLE WA      671238   25063\n",
       "13       TUCSON AZ      631442    5712\n",
       "15   SACRAMENTO CA      545776    7044\n",
       "16   PITTSBURGH PA      542085    3643\n",
       "17   WASHINGTON DC      418859  127001\n",
       "18    NASHVILLE TN      327225    9270\n",
       "19       BOSTON MA      248968   80021"
      ]
     },
     "execution_count": 7,
     "metadata": {},
     "output_type": "execute_result"
    }
   ],
   "source": [
    "# Sanfransico has no data in other data sets, we remove\n",
    "\n",
    "delindex=city_Data[city_Data['City']=='SAN FRANCISCO CA'].index\n",
    "\n",
    "city_Data.drop(delindex, inplace=True)\n",
    "city_Data"
   ]
  },
  {
   "cell_type": "markdown",
   "metadata": {},
   "source": [
    "#### Customer_ID"
   ]
  },
  {
   "cell_type": "code",
   "execution_count": 8,
   "metadata": {},
   "outputs": [],
   "source": [
    "\n",
    "Customer_ID=  pd.read_csv(r\"https://raw.githubusercontent.com/DataGlacier/DataSets/main/Customer_ID.csv\")"
   ]
  },
  {
   "cell_type": "code",
   "execution_count": null,
   "metadata": {},
   "outputs": [],
   "source": [
    "Customer_ID.columns"
   ]
  },
  {
   "cell_type": "code",
   "execution_count": null,
   "metadata": {},
   "outputs": [],
   "source": [
    "Customer_ID.describe()"
   ]
  },
  {
   "cell_type": "code",
   "execution_count": null,
   "metadata": {},
   "outputs": [],
   "source": [
    "Customer_ID"
   ]
  },
  {
   "cell_type": "code",
   "execution_count": null,
   "metadata": {},
   "outputs": [],
   "source": []
  },
  {
   "cell_type": "markdown",
   "metadata": {},
   "source": [
    "#### Transaction_ID"
   ]
  },
  {
   "cell_type": "code",
   "execution_count": 9,
   "metadata": {},
   "outputs": [],
   "source": [
    "Transaction_ID=  pd.read_csv(r\"https://raw.githubusercontent.com/DataGlacier/DataSets/main/Transaction_ID.csv\")"
   ]
  },
  {
   "cell_type": "code",
   "execution_count": null,
   "metadata": {},
   "outputs": [],
   "source": [
    "Transaction_ID"
   ]
  },
  {
   "cell_type": "markdown",
   "metadata": {},
   "source": [
    "# Joining tables"
   ]
  },
  {
   "cell_type": "code",
   "execution_count": 10,
   "metadata": {},
   "outputs": [
    {
     "data": {
      "text/html": [
       "<div>\n",
       "<style scoped>\n",
       "    .dataframe tbody tr th:only-of-type {\n",
       "        vertical-align: middle;\n",
       "    }\n",
       "\n",
       "    .dataframe tbody tr th {\n",
       "        vertical-align: top;\n",
       "    }\n",
       "\n",
       "    .dataframe thead th {\n",
       "        text-align: right;\n",
       "    }\n",
       "</style>\n",
       "<table border=\"1\" class=\"dataframe\">\n",
       "  <thead>\n",
       "    <tr style=\"text-align: right;\">\n",
       "      <th></th>\n",
       "      <th>Transaction ID</th>\n",
       "      <th>Customer ID</th>\n",
       "      <th>Payment_Mode</th>\n",
       "      <th>Date of Travel</th>\n",
       "      <th>Company</th>\n",
       "      <th>City</th>\n",
       "      <th>KM Travelled</th>\n",
       "      <th>Price Charged</th>\n",
       "      <th>Cost of Trip</th>\n",
       "      <th>Profit</th>\n",
       "    </tr>\n",
       "  </thead>\n",
       "  <tbody>\n",
       "    <tr>\n",
       "      <th>0</th>\n",
       "      <td>10000011</td>\n",
       "      <td>29290</td>\n",
       "      <td>Card</td>\n",
       "      <td>42377.00</td>\n",
       "      <td>Pink Cab</td>\n",
       "      <td>ATLANTA GA</td>\n",
       "      <td>30.45</td>\n",
       "      <td>370.95</td>\n",
       "      <td>313.63</td>\n",
       "      <td>1745.24</td>\n",
       "    </tr>\n",
       "    <tr>\n",
       "      <th>1</th>\n",
       "      <td>10000012</td>\n",
       "      <td>27703</td>\n",
       "      <td>Card</td>\n",
       "      <td>42375.00</td>\n",
       "      <td>Pink Cab</td>\n",
       "      <td>ATLANTA GA</td>\n",
       "      <td>28.62</td>\n",
       "      <td>358.52</td>\n",
       "      <td>334.85</td>\n",
       "      <td>677.32</td>\n",
       "    </tr>\n",
       "    <tr>\n",
       "      <th>2</th>\n",
       "      <td>10000013</td>\n",
       "      <td>28712</td>\n",
       "      <td>Cash</td>\n",
       "      <td>42371.00</td>\n",
       "      <td>Pink Cab</td>\n",
       "      <td>ATLANTA GA</td>\n",
       "      <td>9.04</td>\n",
       "      <td>125.20</td>\n",
       "      <td>97.63</td>\n",
       "      <td>249.21</td>\n",
       "    </tr>\n",
       "    <tr>\n",
       "      <th>3</th>\n",
       "      <td>10000014</td>\n",
       "      <td>28020</td>\n",
       "      <td>Cash</td>\n",
       "      <td>42376.00</td>\n",
       "      <td>Pink Cab</td>\n",
       "      <td>ATLANTA GA</td>\n",
       "      <td>33.17</td>\n",
       "      <td>377.40</td>\n",
       "      <td>351.60</td>\n",
       "      <td>855.72</td>\n",
       "    </tr>\n",
       "    <tr>\n",
       "      <th>4</th>\n",
       "      <td>10000015</td>\n",
       "      <td>27182</td>\n",
       "      <td>Card</td>\n",
       "      <td>42372.00</td>\n",
       "      <td>Pink Cab</td>\n",
       "      <td>ATLANTA GA</td>\n",
       "      <td>8.73</td>\n",
       "      <td>114.62</td>\n",
       "      <td>97.78</td>\n",
       "      <td>147.05</td>\n",
       "    </tr>\n",
       "    <tr>\n",
       "      <th>...</th>\n",
       "      <td>...</td>\n",
       "      <td>...</td>\n",
       "      <td>...</td>\n",
       "      <td>...</td>\n",
       "      <td>...</td>\n",
       "      <td>...</td>\n",
       "      <td>...</td>\n",
       "      <td>...</td>\n",
       "      <td>...</td>\n",
       "      <td>...</td>\n",
       "    </tr>\n",
       "    <tr>\n",
       "      <th>440093</th>\n",
       "      <td>10440104</td>\n",
       "      <td>53286</td>\n",
       "      <td>Cash</td>\n",
       "      <td>43104.00</td>\n",
       "      <td>Yellow Cab</td>\n",
       "      <td>WASHINGTON DC</td>\n",
       "      <td>8.40</td>\n",
       "      <td>113.75</td>\n",
       "      <td>106.85</td>\n",
       "      <td>57.98</td>\n",
       "    </tr>\n",
       "    <tr>\n",
       "      <th>440094</th>\n",
       "      <td>10440105</td>\n",
       "      <td>52265</td>\n",
       "      <td>Cash</td>\n",
       "      <td>43105.00</td>\n",
       "      <td>Yellow Cab</td>\n",
       "      <td>WASHINGTON DC</td>\n",
       "      <td>27.75</td>\n",
       "      <td>437.07</td>\n",
       "      <td>349.65</td>\n",
       "      <td>2425.91</td>\n",
       "    </tr>\n",
       "    <tr>\n",
       "      <th>440095</th>\n",
       "      <td>10440106</td>\n",
       "      <td>52175</td>\n",
       "      <td>Card</td>\n",
       "      <td>43105.00</td>\n",
       "      <td>Yellow Cab</td>\n",
       "      <td>WASHINGTON DC</td>\n",
       "      <td>8.80</td>\n",
       "      <td>146.19</td>\n",
       "      <td>114.05</td>\n",
       "      <td>282.85</td>\n",
       "    </tr>\n",
       "    <tr>\n",
       "      <th>440096</th>\n",
       "      <td>10440107</td>\n",
       "      <td>52917</td>\n",
       "      <td>Card</td>\n",
       "      <td>43102.00</td>\n",
       "      <td>Yellow Cab</td>\n",
       "      <td>WASHINGTON DC</td>\n",
       "      <td>12.76</td>\n",
       "      <td>191.58</td>\n",
       "      <td>177.62</td>\n",
       "      <td>178.14</td>\n",
       "    </tr>\n",
       "    <tr>\n",
       "      <th>440097</th>\n",
       "      <td>10440108</td>\n",
       "      <td>51587</td>\n",
       "      <td>Card</td>\n",
       "      <td>nan</td>\n",
       "      <td>NaN</td>\n",
       "      <td>NaN</td>\n",
       "      <td>nan</td>\n",
       "      <td>nan</td>\n",
       "      <td>nan</td>\n",
       "      <td>nan</td>\n",
       "    </tr>\n",
       "  </tbody>\n",
       "</table>\n",
       "<p>440098 rows × 10 columns</p>\n",
       "</div>"
      ],
      "text/plain": [
       "        Transaction ID  Customer ID Payment_Mode  Date of Travel     Company  \\\n",
       "0             10000011        29290         Card        42377.00    Pink Cab   \n",
       "1             10000012        27703         Card        42375.00    Pink Cab   \n",
       "2             10000013        28712         Cash        42371.00    Pink Cab   \n",
       "3             10000014        28020         Cash        42376.00    Pink Cab   \n",
       "4             10000015        27182         Card        42372.00    Pink Cab   \n",
       "...                ...          ...          ...             ...         ...   \n",
       "440093        10440104        53286         Cash        43104.00  Yellow Cab   \n",
       "440094        10440105        52265         Cash        43105.00  Yellow Cab   \n",
       "440095        10440106        52175         Card        43105.00  Yellow Cab   \n",
       "440096        10440107        52917         Card        43102.00  Yellow Cab   \n",
       "440097        10440108        51587         Card             nan         NaN   \n",
       "\n",
       "                 City  KM Travelled  Price Charged  Cost of Trip  Profit  \n",
       "0          ATLANTA GA         30.45         370.95        313.63 1745.24  \n",
       "1          ATLANTA GA         28.62         358.52        334.85  677.32  \n",
       "2          ATLANTA GA          9.04         125.20         97.63  249.21  \n",
       "3          ATLANTA GA         33.17         377.40        351.60  855.72  \n",
       "4          ATLANTA GA          8.73         114.62         97.78  147.05  \n",
       "...               ...           ...            ...           ...     ...  \n",
       "440093  WASHINGTON DC          8.40         113.75        106.85   57.98  \n",
       "440094  WASHINGTON DC         27.75         437.07        349.65 2425.91  \n",
       "440095  WASHINGTON DC          8.80         146.19        114.05  282.85  \n",
       "440096  WASHINGTON DC         12.76         191.58        177.62  178.14  \n",
       "440097            NaN           nan            nan           nan     nan  \n",
       "\n",
       "[440098 rows x 10 columns]"
      ]
     },
     "execution_count": 10,
     "metadata": {},
     "output_type": "execute_result"
    }
   ],
   "source": [
    "trc= Transaction_ID.join(Cab_Data.set_index('Transaction ID'), on='Transaction ID')\n"
   ]
  },
  {
   "cell_type": "code",
   "execution_count": 11,
   "metadata": {},
   "outputs": [],
   "source": [
    "tcc= trc.join(Customer_ID.set_index('Customer ID'), on='Customer ID')\n"
   ]
  },
  {
   "cell_type": "markdown",
   "metadata": {},
   "source": [
    "#### Converting date"
   ]
  },
  {
   "cell_type": "code",
   "execution_count": 13,
   "metadata": {},
   "outputs": [],
   "source": [
    "tcc['Date'] = pd.to_datetime(tcc['Date of Travel'], origin=pd.Timestamp('1900-01-01'), unit='d')"
   ]
  },
  {
   "cell_type": "code",
   "execution_count": 48,
   "metadata": {},
   "outputs": [
    {
     "data": {
      "text/html": [
       "<div>\n",
       "<style scoped>\n",
       "    .dataframe tbody tr th:only-of-type {\n",
       "        vertical-align: middle;\n",
       "    }\n",
       "\n",
       "    .dataframe tbody tr th {\n",
       "        vertical-align: top;\n",
       "    }\n",
       "\n",
       "    .dataframe thead th {\n",
       "        text-align: right;\n",
       "    }\n",
       "</style>\n",
       "<table border=\"1\" class=\"dataframe\">\n",
       "  <thead>\n",
       "    <tr style=\"text-align: right;\">\n",
       "      <th></th>\n",
       "      <th>Transaction ID</th>\n",
       "      <th>Customer ID</th>\n",
       "      <th>Payment_Mode</th>\n",
       "      <th>Date of Travel</th>\n",
       "      <th>Company</th>\n",
       "      <th>City</th>\n",
       "      <th>KM Travelled</th>\n",
       "      <th>Price Charged</th>\n",
       "      <th>Cost of Trip</th>\n",
       "      <th>Profit</th>\n",
       "      <th>Gender</th>\n",
       "      <th>Age</th>\n",
       "      <th>Income (USD/Month)</th>\n",
       "      <th>Date</th>\n",
       "    </tr>\n",
       "  </thead>\n",
       "  <tbody>\n",
       "    <tr>\n",
       "      <th>0</th>\n",
       "      <td>10000011</td>\n",
       "      <td>29290</td>\n",
       "      <td>Card</td>\n",
       "      <td>42377.00</td>\n",
       "      <td>Pink Cab</td>\n",
       "      <td>ATLANTA GA</td>\n",
       "      <td>30.45</td>\n",
       "      <td>370.95</td>\n",
       "      <td>313.63</td>\n",
       "      <td>1745.24</td>\n",
       "      <td>Male</td>\n",
       "      <td>28</td>\n",
       "      <td>10813</td>\n",
       "      <td>2016-01-10</td>\n",
       "    </tr>\n",
       "    <tr>\n",
       "      <th>1</th>\n",
       "      <td>10000012</td>\n",
       "      <td>27703</td>\n",
       "      <td>Card</td>\n",
       "      <td>42375.00</td>\n",
       "      <td>Pink Cab</td>\n",
       "      <td>ATLANTA GA</td>\n",
       "      <td>28.62</td>\n",
       "      <td>358.52</td>\n",
       "      <td>334.85</td>\n",
       "      <td>677.32</td>\n",
       "      <td>Male</td>\n",
       "      <td>27</td>\n",
       "      <td>9237</td>\n",
       "      <td>2016-01-08</td>\n",
       "    </tr>\n",
       "    <tr>\n",
       "      <th>2</th>\n",
       "      <td>10000013</td>\n",
       "      <td>28712</td>\n",
       "      <td>Cash</td>\n",
       "      <td>42371.00</td>\n",
       "      <td>Pink Cab</td>\n",
       "      <td>ATLANTA GA</td>\n",
       "      <td>9.04</td>\n",
       "      <td>125.20</td>\n",
       "      <td>97.63</td>\n",
       "      <td>249.21</td>\n",
       "      <td>Male</td>\n",
       "      <td>53</td>\n",
       "      <td>11242</td>\n",
       "      <td>2016-01-04</td>\n",
       "    </tr>\n",
       "    <tr>\n",
       "      <th>3</th>\n",
       "      <td>10000014</td>\n",
       "      <td>28020</td>\n",
       "      <td>Cash</td>\n",
       "      <td>42376.00</td>\n",
       "      <td>Pink Cab</td>\n",
       "      <td>ATLANTA GA</td>\n",
       "      <td>33.17</td>\n",
       "      <td>377.40</td>\n",
       "      <td>351.60</td>\n",
       "      <td>855.72</td>\n",
       "      <td>Male</td>\n",
       "      <td>23</td>\n",
       "      <td>23327</td>\n",
       "      <td>2016-01-09</td>\n",
       "    </tr>\n",
       "    <tr>\n",
       "      <th>4</th>\n",
       "      <td>10000015</td>\n",
       "      <td>27182</td>\n",
       "      <td>Card</td>\n",
       "      <td>42372.00</td>\n",
       "      <td>Pink Cab</td>\n",
       "      <td>ATLANTA GA</td>\n",
       "      <td>8.73</td>\n",
       "      <td>114.62</td>\n",
       "      <td>97.78</td>\n",
       "      <td>147.05</td>\n",
       "      <td>Male</td>\n",
       "      <td>33</td>\n",
       "      <td>8536</td>\n",
       "      <td>2016-01-05</td>\n",
       "    </tr>\n",
       "    <tr>\n",
       "      <th>...</th>\n",
       "      <td>...</td>\n",
       "      <td>...</td>\n",
       "      <td>...</td>\n",
       "      <td>...</td>\n",
       "      <td>...</td>\n",
       "      <td>...</td>\n",
       "      <td>...</td>\n",
       "      <td>...</td>\n",
       "      <td>...</td>\n",
       "      <td>...</td>\n",
       "      <td>...</td>\n",
       "      <td>...</td>\n",
       "      <td>...</td>\n",
       "      <td>...</td>\n",
       "    </tr>\n",
       "    <tr>\n",
       "      <th>440093</th>\n",
       "      <td>10440104</td>\n",
       "      <td>53286</td>\n",
       "      <td>Cash</td>\n",
       "      <td>43104.00</td>\n",
       "      <td>Yellow Cab</td>\n",
       "      <td>WASHINGTON DC</td>\n",
       "      <td>8.40</td>\n",
       "      <td>113.75</td>\n",
       "      <td>106.85</td>\n",
       "      <td>57.98</td>\n",
       "      <td>Male</td>\n",
       "      <td>32</td>\n",
       "      <td>6528</td>\n",
       "      <td>2018-01-06</td>\n",
       "    </tr>\n",
       "    <tr>\n",
       "      <th>440094</th>\n",
       "      <td>10440105</td>\n",
       "      <td>52265</td>\n",
       "      <td>Cash</td>\n",
       "      <td>43105.00</td>\n",
       "      <td>Yellow Cab</td>\n",
       "      <td>WASHINGTON DC</td>\n",
       "      <td>27.75</td>\n",
       "      <td>437.07</td>\n",
       "      <td>349.65</td>\n",
       "      <td>2425.91</td>\n",
       "      <td>Male</td>\n",
       "      <td>56</td>\n",
       "      <td>7966</td>\n",
       "      <td>2018-01-07</td>\n",
       "    </tr>\n",
       "    <tr>\n",
       "      <th>440095</th>\n",
       "      <td>10440106</td>\n",
       "      <td>52175</td>\n",
       "      <td>Card</td>\n",
       "      <td>43105.00</td>\n",
       "      <td>Yellow Cab</td>\n",
       "      <td>WASHINGTON DC</td>\n",
       "      <td>8.80</td>\n",
       "      <td>146.19</td>\n",
       "      <td>114.05</td>\n",
       "      <td>282.85</td>\n",
       "      <td>Male</td>\n",
       "      <td>32</td>\n",
       "      <td>6423</td>\n",
       "      <td>2018-01-07</td>\n",
       "    </tr>\n",
       "    <tr>\n",
       "      <th>440096</th>\n",
       "      <td>10440107</td>\n",
       "      <td>52917</td>\n",
       "      <td>Card</td>\n",
       "      <td>43102.00</td>\n",
       "      <td>Yellow Cab</td>\n",
       "      <td>WASHINGTON DC</td>\n",
       "      <td>12.76</td>\n",
       "      <td>191.58</td>\n",
       "      <td>177.62</td>\n",
       "      <td>178.14</td>\n",
       "      <td>Male</td>\n",
       "      <td>20</td>\n",
       "      <td>11284</td>\n",
       "      <td>2018-01-04</td>\n",
       "    </tr>\n",
       "    <tr>\n",
       "      <th>440097</th>\n",
       "      <td>10440108</td>\n",
       "      <td>51587</td>\n",
       "      <td>Card</td>\n",
       "      <td>nan</td>\n",
       "      <td>NaN</td>\n",
       "      <td>NaN</td>\n",
       "      <td>nan</td>\n",
       "      <td>nan</td>\n",
       "      <td>nan</td>\n",
       "      <td>nan</td>\n",
       "      <td>Male</td>\n",
       "      <td>39</td>\n",
       "      <td>23470</td>\n",
       "      <td>NaT</td>\n",
       "    </tr>\n",
       "  </tbody>\n",
       "</table>\n",
       "<p>440098 rows × 14 columns</p>\n",
       "</div>"
      ],
      "text/plain": [
       "        Transaction ID  Customer ID Payment_Mode  Date of Travel     Company  \\\n",
       "0             10000011        29290         Card        42377.00    Pink Cab   \n",
       "1             10000012        27703         Card        42375.00    Pink Cab   \n",
       "2             10000013        28712         Cash        42371.00    Pink Cab   \n",
       "3             10000014        28020         Cash        42376.00    Pink Cab   \n",
       "4             10000015        27182         Card        42372.00    Pink Cab   \n",
       "...                ...          ...          ...             ...         ...   \n",
       "440093        10440104        53286         Cash        43104.00  Yellow Cab   \n",
       "440094        10440105        52265         Cash        43105.00  Yellow Cab   \n",
       "440095        10440106        52175         Card        43105.00  Yellow Cab   \n",
       "440096        10440107        52917         Card        43102.00  Yellow Cab   \n",
       "440097        10440108        51587         Card             nan         NaN   \n",
       "\n",
       "                 City  KM Travelled  Price Charged  Cost of Trip  Profit  \\\n",
       "0          ATLANTA GA         30.45         370.95        313.63 1745.24   \n",
       "1          ATLANTA GA         28.62         358.52        334.85  677.32   \n",
       "2          ATLANTA GA          9.04         125.20         97.63  249.21   \n",
       "3          ATLANTA GA         33.17         377.40        351.60  855.72   \n",
       "4          ATLANTA GA          8.73         114.62         97.78  147.05   \n",
       "...               ...           ...            ...           ...     ...   \n",
       "440093  WASHINGTON DC          8.40         113.75        106.85   57.98   \n",
       "440094  WASHINGTON DC         27.75         437.07        349.65 2425.91   \n",
       "440095  WASHINGTON DC          8.80         146.19        114.05  282.85   \n",
       "440096  WASHINGTON DC         12.76         191.58        177.62  178.14   \n",
       "440097            NaN           nan            nan           nan     nan   \n",
       "\n",
       "       Gender  Age  Income (USD/Month)       Date  \n",
       "0        Male   28               10813 2016-01-10  \n",
       "1        Male   27                9237 2016-01-08  \n",
       "2        Male   53               11242 2016-01-04  \n",
       "3        Male   23               23327 2016-01-09  \n",
       "4        Male   33                8536 2016-01-05  \n",
       "...       ...  ...                 ...        ...  \n",
       "440093   Male   32                6528 2018-01-06  \n",
       "440094   Male   56                7966 2018-01-07  \n",
       "440095   Male   32                6423 2018-01-07  \n",
       "440096   Male   20               11284 2018-01-04  \n",
       "440097   Male   39               23470        NaT  \n",
       "\n",
       "[440098 rows x 14 columns]"
      ]
     },
     "execution_count": 48,
     "metadata": {},
     "output_type": "execute_result"
    }
   ],
   "source": [
    "tcc"
   ]
  },
  {
   "cell_type": "markdown",
   "metadata": {},
   "source": [
    "#### Separating data of Pink and Yellow"
   ]
  },
  {
   "cell_type": "code",
   "execution_count": 26,
   "metadata": {},
   "outputs": [],
   "source": [
    "pink = tcc[tcc['Company'] == 'Pink Cab']\n",
    "yellow = tcc[tcc['Company'] == 'Yellow Cab']"
   ]
  },
  {
   "cell_type": "code",
   "execution_count": null,
   "metadata": {
    "scrolled": false
   },
   "outputs": [],
   "source": [
    "pink"
   ]
  },
  {
   "cell_type": "markdown",
   "metadata": {},
   "source": [
    "### Aggregation of some varibles by indexing city"
   ]
  },
  {
   "cell_type": "code",
   "execution_count": null,
   "metadata": {},
   "outputs": [],
   "source": [
    "sumcity=pd.pivot_table(tcc,index='City',values=['Price Charged','Cost of Trip','KM Travelled', 'Profit'],aggfunc='sum').reset_index()"
   ]
  },
  {
   "cell_type": "code",
   "execution_count": null,
   "metadata": {},
   "outputs": [],
   "source": [
    "sumcity.columns=['City', 'Total Cost of Trip','KM Travelled','Total Price Charged', 'Profit']"
   ]
  },
  {
   "cell_type": "code",
   "execution_count": null,
   "metadata": {
    "scrolled": true
   },
   "outputs": [],
   "source": [
    "sumcity"
   ]
  },
  {
   "cell_type": "markdown",
   "metadata": {},
   "source": [
    "#### Aggregation of some varibles of Pink company indexing city"
   ]
  },
  {
   "cell_type": "code",
   "execution_count": null,
   "metadata": {},
   "outputs": [],
   "source": [
    "sumcity_pink=pd.pivot_table(pink,index='City',values=['Price Charged','Cost of Trip','KM Travelled', 'Profit'],aggfunc='sum').reset_index()"
   ]
  },
  {
   "cell_type": "code",
   "execution_count": null,
   "metadata": {},
   "outputs": [],
   "source": [
    "sumcity_pink.columns=['City', 'Total Cost of Trip','KM Travelled','Total Price Charged', 'Profit']"
   ]
  },
  {
   "cell_type": "code",
   "execution_count": null,
   "metadata": {
    "scrolled": true
   },
   "outputs": [],
   "source": [
    "sumcity_pink"
   ]
  },
  {
   "cell_type": "code",
   "execution_count": null,
   "metadata": {},
   "outputs": [],
   "source": []
  },
  {
   "cell_type": "markdown",
   "metadata": {},
   "source": [
    "#### Aggregation of some varibles of Yellow company indexing city"
   ]
  },
  {
   "cell_type": "code",
   "execution_count": null,
   "metadata": {},
   "outputs": [],
   "source": [
    "sumcity_yellow=pd.pivot_table(yellow,index='City',values=['Price Charged','Cost of Trip','KM Travelled', 'Profit'],aggfunc='sum').reset_index()"
   ]
  },
  {
   "cell_type": "code",
   "execution_count": null,
   "metadata": {},
   "outputs": [],
   "source": [
    "sumcity_yellow.columns=['City', 'Total Cost of Trip','KM Travelled','Total Price Charged', 'Profit']"
   ]
  },
  {
   "cell_type": "code",
   "execution_count": null,
   "metadata": {
    "scrolled": true
   },
   "outputs": [],
   "source": [
    "sumcity_yellow"
   ]
  },
  {
   "cell_type": "markdown",
   "metadata": {},
   "source": [
    "## Plotting"
   ]
  },
  {
   "cell_type": "markdown",
   "metadata": {},
   "source": [
    "#### Profit across Cities"
   ]
  },
  {
   "cell_type": "code",
   "execution_count": null,
   "metadata": {
    "scrolled": false
   },
   "outputs": [],
   "source": [
    "import matplotlib\n",
    "import matplotlib.pyplot as plt\n",
    "import numpy as np\n",
    "\n",
    "labels = sumcity['City']\n",
    "\n",
    "\n",
    "x = np.arange(len(labels))  # the label locations\n",
    "width = .2 # the width of the bars\n",
    "\n",
    "fig, ax = plt.subplots(figsize=(25,10))\n",
    "rects1 = ax.bar(x - width, sumcity['Profit'],width,  label='Total')\n",
    "rects2 = ax.bar(x , sumcity_pink['Profit'],width, label='Pink')\n",
    "rects3 = ax.bar(x + width, sumcity_yellow['Profit'],width, label='Yellow')\n",
    "\n",
    "\n",
    "# Add some text for labels, title and custom x-axis tick labels, etc.\n",
    "ax.set_ylabel('Profit', fontsize=20)\n",
    "ax.set_title('Profit across Cities', fontsize=20)\n",
    "ax.set_xticks(x)\n",
    "ax.set_xticklabels(labels)\n",
    "ax.legend(fontsize=20)\n",
    "ax.ticklabel_format(axis=\"y\",useOffset=False,style='plain', useLocale=True)\n",
    "plt.xticks( rotation=45,fontsize=18, ha=\"right\")\n",
    "\n",
    "    \n",
    "fig.tight_layout()\n",
    "\n",
    "plt.show()"
   ]
  },
  {
   "cell_type": "markdown",
   "metadata": {},
   "source": [
    "#### Profit per City population\n"
   ]
  },
  {
   "cell_type": "code",
   "execution_count": null,
   "metadata": {
    "scrolled": true
   },
   "outputs": [],
   "source": [
    "sumcity_pop=pd.merge(sumcity,city_Data,on='City',how='right')\n",
    "sumcity_pop"
   ]
  },
  {
   "cell_type": "code",
   "execution_count": null,
   "metadata": {},
   "outputs": [],
   "source": [
    "sumcity_pop['Profit per Population']= (sumcity_pop['Profit'] / sumcity_pop['Population'])"
   ]
  },
  {
   "cell_type": "code",
   "execution_count": null,
   "metadata": {},
   "outputs": [],
   "source": [
    "sumcity_pop['Profit per Population'].astype(float)\n",
    "sumcity_pop['Profit per Population']=sumcity_pop['Profit per Population'].apply(lambda x: '%.5f' % x) \n",
    "sumcity_pop['Profit per Population'] = pd.to_numeric(sumcity_pop['Profit per Population'])"
   ]
  },
  {
   "cell_type": "code",
   "execution_count": null,
   "metadata": {},
   "outputs": [],
   "source": [
    "type(sumcity_pop.loc[1,'Profit per Population'])"
   ]
  },
  {
   "cell_type": "code",
   "execution_count": null,
   "metadata": {
    "scrolled": true
   },
   "outputs": [],
   "source": [
    "sumcity_pop.sort_values(by='Profit per Population',ascending=False)"
   ]
  },
  {
   "cell_type": "code",
   "execution_count": null,
   "metadata": {},
   "outputs": [],
   "source": [
    "pop_times_thousand = sumcity_pop['Population']/10000"
   ]
  },
  {
   "cell_type": "markdown",
   "metadata": {},
   "source": [
    "#### Ploting Bar chart of Profit per City Population"
   ]
  },
  {
   "cell_type": "code",
   "execution_count": null,
   "metadata": {},
   "outputs": [],
   "source": [
    "\n",
    "labels = sumcity_pop['City']\n",
    "\n",
    "\n",
    "x = np.arange(len(labels))  # the label locations\n",
    "width = .2 # the width of the bars\n",
    "\n",
    "fig, ax = plt.subplots(figsize=(25,10))\n",
    "\n",
    "\n",
    "rects1 = ax.bar(x - width/2, sumcity_pop['Profit per Population'],width,  label='Profit per Population')\n",
    "#rects2 = ax.bar(x , sumcity_pink['Profit'],width, label='Pink')\n",
    "rects3 = ax.bar(x + width/2, pop_times_thousand,width, label='Population / 10000')\n",
    "\n",
    "\n",
    "# Add some text for labels, title and custom x-axis tick labels, etc.\n",
    "ax.set_ylabel('Profit', fontsize=20)\n",
    "ax.set_title('Profit across Cities', fontsize=20)\n",
    "ax.set_xticks(x)\n",
    "ax.set_xticklabels(labels)\n",
    "ax.legend(fontsize=20)\n",
    "ax.ticklabel_format(axis=\"y\",useOffset=False,style='plain', useLocale=True)\n",
    "plt.xticks( rotation=45,fontsize=18, ha=\"right\")\n",
    "\n",
    "    \n",
    "fig.tight_layout()\n",
    "\n",
    "plt.show()"
   ]
  },
  {
   "cell_type": "code",
   "execution_count": 51,
   "metadata": {},
   "outputs": [
    {
     "ename": "NameError",
     "evalue": "name 'sumcity_pop' is not defined",
     "output_type": "error",
     "traceback": [
      "\u001b[1;31m---------------------------------------------------------------------------\u001b[0m",
      "\u001b[1;31mNameError\u001b[0m                                 Traceback (most recent call last)",
      "\u001b[1;32m<ipython-input-51-3c9d85b9ab50>\u001b[0m in \u001b[0;36m<module>\u001b[1;34m\u001b[0m\n\u001b[0;32m      1\u001b[0m \u001b[0mf\u001b[0m\u001b[1;33m,\u001b[0m \u001b[0max\u001b[0m \u001b[1;33m=\u001b[0m \u001b[0mplt\u001b[0m\u001b[1;33m.\u001b[0m\u001b[0msubplots\u001b[0m\u001b[1;33m(\u001b[0m\u001b[0mfigsize\u001b[0m\u001b[1;33m=\u001b[0m\u001b[1;33m(\u001b[0m\u001b[1;36m25\u001b[0m\u001b[1;33m,\u001b[0m\u001b[1;36m10\u001b[0m\u001b[1;33m)\u001b[0m\u001b[1;33m)\u001b[0m \u001b[1;31m# set the size that you'd like (width, height)\u001b[0m\u001b[1;33m\u001b[0m\u001b[1;33m\u001b[0m\u001b[0m\n\u001b[0;32m      2\u001b[0m \u001b[1;33m\u001b[0m\u001b[0m\n\u001b[1;32m----> 3\u001b[1;33m \u001b[0mplt\u001b[0m\u001b[1;33m.\u001b[0m\u001b[0mbar\u001b[0m\u001b[1;33m(\u001b[0m\u001b[0msumcity_pop\u001b[0m\u001b[1;33m[\u001b[0m\u001b[1;34m'City'\u001b[0m\u001b[1;33m]\u001b[0m\u001b[1;33m,\u001b[0m \u001b[0msumcity_pop\u001b[0m\u001b[1;33m[\u001b[0m\u001b[1;34m'Profit per Population'\u001b[0m\u001b[1;33m]\u001b[0m\u001b[1;33m)\u001b[0m\u001b[1;33m\u001b[0m\u001b[1;33m\u001b[0m\u001b[0m\n\u001b[0m\u001b[0;32m      4\u001b[0m \u001b[0mplt\u001b[0m\u001b[1;33m.\u001b[0m\u001b[0mbar\u001b[0m\u001b[1;33m(\u001b[0m\u001b[0msumcity_pop\u001b[0m\u001b[1;33m[\u001b[0m\u001b[1;34m'City'\u001b[0m\u001b[1;33m]\u001b[0m\u001b[1;33m,\u001b[0m \u001b[0msumcity_pop\u001b[0m\u001b[1;33m[\u001b[0m\u001b[1;34m'Profit'\u001b[0m\u001b[1;33m]\u001b[0m\u001b[1;33m)\u001b[0m\u001b[1;33m\u001b[0m\u001b[1;33m\u001b[0m\u001b[0m\n\u001b[0;32m      5\u001b[0m \u001b[1;33m\u001b[0m\u001b[0m\n",
      "\u001b[1;31mNameError\u001b[0m: name 'sumcity_pop' is not defined"
     ]
    },
    {
     "data": {
      "image/png": "[encoded data removed]",
      "text/plain": [
       "<Figure size 1800x720 with 1 Axes>"
      ]
     },
     "metadata": {
      "needs_background": "light"
     },
     "output_type": "display_data"
    }
   ],
   "source": [
    "\n",
    "\n",
    "f, ax = plt.subplots(figsize=(25,10)) # set the size that you'd like (width, height)\n",
    "\n",
    "plt.bar(sumcity_pop['City'], sumcity_pop['Profit per Population'])\n",
    "plt.bar(sumcity_pop['City'], sumcity_pop['Profit'])\n",
    "\n",
    "#plt.bar([10,11,12,13], [0.4,0.3,0.2,0.1], label = 'second bar')\n",
    "ax.legend(fontsize = 14)\n",
    "ax.set_title('Profit per City Population', fontsize=20)\n",
    "\n",
    "ax.set_xticklabels(labels, fontdict=None, minor=False, rotation=45)\n",
    "\n"
   ]
  },
  {
   "cell_type": "markdown",
   "metadata": {},
   "source": [
    "### Groupby Customer ID for analysizing Customer Retension"
   ]
  },
  {
   "cell_type": "code",
   "execution_count": 14,
   "metadata": {},
   "outputs": [
    {
     "data": {
      "text/html": [
       "<div>\n",
       "<style scoped>\n",
       "    .dataframe tbody tr th:only-of-type {\n",
       "        vertical-align: middle;\n",
       "    }\n",
       "\n",
       "    .dataframe tbody tr th {\n",
       "        vertical-align: top;\n",
       "    }\n",
       "\n",
       "    .dataframe thead th {\n",
       "        text-align: right;\n",
       "    }\n",
       "</style>\n",
       "<table border=\"1\" class=\"dataframe\">\n",
       "  <thead>\n",
       "    <tr style=\"text-align: right;\">\n",
       "      <th></th>\n",
       "      <th>Customer ID</th>\n",
       "      <th>Age</th>\n",
       "      <th>Income (USD/Month)</th>\n",
       "      <th>Profit</th>\n",
       "      <th>Transaction ID</th>\n",
       "    </tr>\n",
       "  </thead>\n",
       "  <tbody>\n",
       "    <tr>\n",
       "      <th>0</th>\n",
       "      <td>1</td>\n",
       "      <td>36</td>\n",
       "      <td>16359</td>\n",
       "      <td>8400.89</td>\n",
       "      <td>29</td>\n",
       "    </tr>\n",
       "    <tr>\n",
       "      <th>1</th>\n",
       "      <td>2</td>\n",
       "      <td>31</td>\n",
       "      <td>12069</td>\n",
       "      <td>8765.69</td>\n",
       "      <td>40</td>\n",
       "    </tr>\n",
       "    <tr>\n",
       "      <th>2</th>\n",
       "      <td>3</td>\n",
       "      <td>27</td>\n",
       "      <td>12968</td>\n",
       "      <td>7152.42</td>\n",
       "      <td>46</td>\n",
       "    </tr>\n",
       "    <tr>\n",
       "      <th>3</th>\n",
       "      <td>4</td>\n",
       "      <td>33</td>\n",
       "      <td>13803</td>\n",
       "      <td>9606.26</td>\n",
       "      <td>26</td>\n",
       "    </tr>\n",
       "    <tr>\n",
       "      <th>4</th>\n",
       "      <td>5</td>\n",
       "      <td>24</td>\n",
       "      <td>9965</td>\n",
       "      <td>10065.55</td>\n",
       "      <td>31</td>\n",
       "    </tr>\n",
       "    <tr>\n",
       "      <th>...</th>\n",
       "      <td>...</td>\n",
       "      <td>...</td>\n",
       "      <td>...</td>\n",
       "      <td>...</td>\n",
       "      <td>...</td>\n",
       "    </tr>\n",
       "    <tr>\n",
       "      <th>49166</th>\n",
       "      <td>59996</td>\n",
       "      <td>51</td>\n",
       "      <td>16634</td>\n",
       "      <td>-169.76</td>\n",
       "      <td>4</td>\n",
       "    </tr>\n",
       "    <tr>\n",
       "      <th>49167</th>\n",
       "      <td>59997</td>\n",
       "      <td>63</td>\n",
       "      <td>22352</td>\n",
       "      <td>1652.40</td>\n",
       "      <td>10</td>\n",
       "    </tr>\n",
       "    <tr>\n",
       "      <th>49168</th>\n",
       "      <td>59998</td>\n",
       "      <td>23</td>\n",
       "      <td>5678</td>\n",
       "      <td>2424.83</td>\n",
       "      <td>9</td>\n",
       "    </tr>\n",
       "    <tr>\n",
       "      <th>49169</th>\n",
       "      <td>59999</td>\n",
       "      <td>38</td>\n",
       "      <td>24577</td>\n",
       "      <td>981.84</td>\n",
       "      <td>8</td>\n",
       "    </tr>\n",
       "    <tr>\n",
       "      <th>49170</th>\n",
       "      <td>60000</td>\n",
       "      <td>27</td>\n",
       "      <td>20303</td>\n",
       "      <td>2256.42</td>\n",
       "      <td>18</td>\n",
       "    </tr>\n",
       "  </tbody>\n",
       "</table>\n",
       "<p>49171 rows × 5 columns</p>\n",
       "</div>"
      ],
      "text/plain": [
       "       Customer ID  Age  Income (USD/Month)   Profit  Transaction ID\n",
       "0                1   36               16359  8400.89              29\n",
       "1                2   31               12069  8765.69              40\n",
       "2                3   27               12968  7152.42              46\n",
       "3                4   33               13803  9606.26              26\n",
       "4                5   24                9965 10065.55              31\n",
       "...            ...  ...                 ...      ...             ...\n",
       "49166        59996   51               16634  -169.76               4\n",
       "49167        59997   63               22352  1652.40              10\n",
       "49168        59998   23                5678  2424.83               9\n",
       "49169        59999   38               24577   981.84               8\n",
       "49170        60000   27               20303  2256.42              18\n",
       "\n",
       "[49171 rows x 5 columns]"
      ]
     },
     "execution_count": 14,
     "metadata": {},
     "output_type": "execute_result"
    }
   ],
   "source": [
    "cusnum = tcc.groupby(['Customer ID']).agg({'Age':'mean','Income (USD/Month)':'mean',\\\n",
    "                                           'Profit':'mean', 'Transaction ID': 'size'}).reset_index()\n",
    "cusnum"
   ]
  },
  {
   "cell_type": "code",
   "execution_count": 15,
   "metadata": {},
   "outputs": [],
   "source": [
    "def checkFunc(x):\n",
    "    if x < 3:\n",
    "        return 'trips < 3 '\n",
    "    elif x < 5:\n",
    "        return '2 < trips <5'\n",
    "    elif x < 10:\n",
    "        return '4 < trips <10'\n",
    "    else:\n",
    "        return '10 < trips'"
   ]
  },
  {
   "cell_type": "code",
   "execution_count": 16,
   "metadata": {
    "scrolled": true
   },
   "outputs": [
    {
     "data": {
      "text/html": [
       "<div>\n",
       "<style scoped>\n",
       "    .dataframe tbody tr th:only-of-type {\n",
       "        vertical-align: middle;\n",
       "    }\n",
       "\n",
       "    .dataframe tbody tr th {\n",
       "        vertical-align: top;\n",
       "    }\n",
       "\n",
       "    .dataframe thead th {\n",
       "        text-align: right;\n",
       "    }\n",
       "</style>\n",
       "<table border=\"1\" class=\"dataframe\">\n",
       "  <thead>\n",
       "    <tr style=\"text-align: right;\">\n",
       "      <th></th>\n",
       "      <th>Customer ID</th>\n",
       "      <th>Age</th>\n",
       "      <th>Income (USD/Month)</th>\n",
       "      <th>Profit</th>\n",
       "      <th>Transaction ID</th>\n",
       "      <th>trips</th>\n",
       "    </tr>\n",
       "  </thead>\n",
       "  <tbody>\n",
       "    <tr>\n",
       "      <th>0</th>\n",
       "      <td>1</td>\n",
       "      <td>36</td>\n",
       "      <td>16359</td>\n",
       "      <td>8400.89</td>\n",
       "      <td>29</td>\n",
       "      <td>10 &lt; trips</td>\n",
       "    </tr>\n",
       "    <tr>\n",
       "      <th>1</th>\n",
       "      <td>2</td>\n",
       "      <td>31</td>\n",
       "      <td>12069</td>\n",
       "      <td>8765.69</td>\n",
       "      <td>40</td>\n",
       "      <td>10 &lt; trips</td>\n",
       "    </tr>\n",
       "    <tr>\n",
       "      <th>2</th>\n",
       "      <td>3</td>\n",
       "      <td>27</td>\n",
       "      <td>12968</td>\n",
       "      <td>7152.42</td>\n",
       "      <td>46</td>\n",
       "      <td>10 &lt; trips</td>\n",
       "    </tr>\n",
       "    <tr>\n",
       "      <th>3</th>\n",
       "      <td>4</td>\n",
       "      <td>33</td>\n",
       "      <td>13803</td>\n",
       "      <td>9606.26</td>\n",
       "      <td>26</td>\n",
       "      <td>10 &lt; trips</td>\n",
       "    </tr>\n",
       "    <tr>\n",
       "      <th>4</th>\n",
       "      <td>5</td>\n",
       "      <td>24</td>\n",
       "      <td>9965</td>\n",
       "      <td>10065.55</td>\n",
       "      <td>31</td>\n",
       "      <td>10 &lt; trips</td>\n",
       "    </tr>\n",
       "    <tr>\n",
       "      <th>...</th>\n",
       "      <td>...</td>\n",
       "      <td>...</td>\n",
       "      <td>...</td>\n",
       "      <td>...</td>\n",
       "      <td>...</td>\n",
       "      <td>...</td>\n",
       "    </tr>\n",
       "    <tr>\n",
       "      <th>49166</th>\n",
       "      <td>59996</td>\n",
       "      <td>51</td>\n",
       "      <td>16634</td>\n",
       "      <td>-169.76</td>\n",
       "      <td>4</td>\n",
       "      <td>2 &lt; trips &lt;5</td>\n",
       "    </tr>\n",
       "    <tr>\n",
       "      <th>49167</th>\n",
       "      <td>59997</td>\n",
       "      <td>63</td>\n",
       "      <td>22352</td>\n",
       "      <td>1652.40</td>\n",
       "      <td>10</td>\n",
       "      <td>10 &lt; trips</td>\n",
       "    </tr>\n",
       "    <tr>\n",
       "      <th>49168</th>\n",
       "      <td>59998</td>\n",
       "      <td>23</td>\n",
       "      <td>5678</td>\n",
       "      <td>2424.83</td>\n",
       "      <td>9</td>\n",
       "      <td>4 &lt; trips &lt;10</td>\n",
       "    </tr>\n",
       "    <tr>\n",
       "      <th>49169</th>\n",
       "      <td>59999</td>\n",
       "      <td>38</td>\n",
       "      <td>24577</td>\n",
       "      <td>981.84</td>\n",
       "      <td>8</td>\n",
       "      <td>4 &lt; trips &lt;10</td>\n",
       "    </tr>\n",
       "    <tr>\n",
       "      <th>49170</th>\n",
       "      <td>60000</td>\n",
       "      <td>27</td>\n",
       "      <td>20303</td>\n",
       "      <td>2256.42</td>\n",
       "      <td>18</td>\n",
       "      <td>10 &lt; trips</td>\n",
       "    </tr>\n",
       "  </tbody>\n",
       "</table>\n",
       "<p>49171 rows × 6 columns</p>\n",
       "</div>"
      ],
      "text/plain": [
       "       Customer ID  Age  Income (USD/Month)   Profit  Transaction ID  \\\n",
       "0                1   36               16359  8400.89              29   \n",
       "1                2   31               12069  8765.69              40   \n",
       "2                3   27               12968  7152.42              46   \n",
       "3                4   33               13803  9606.26              26   \n",
       "4                5   24                9965 10065.55              31   \n",
       "...            ...  ...                 ...      ...             ...   \n",
       "49166        59996   51               16634  -169.76               4   \n",
       "49167        59997   63               22352  1652.40              10   \n",
       "49168        59998   23                5678  2424.83               9   \n",
       "49169        59999   38               24577   981.84               8   \n",
       "49170        60000   27               20303  2256.42              18   \n",
       "\n",
       "               trips  \n",
       "0         10 < trips  \n",
       "1         10 < trips  \n",
       "2         10 < trips  \n",
       "3         10 < trips  \n",
       "4         10 < trips  \n",
       "...              ...  \n",
       "49166   2 < trips <5  \n",
       "49167     10 < trips  \n",
       "49168  4 < trips <10  \n",
       "49169  4 < trips <10  \n",
       "49170     10 < trips  \n",
       "\n",
       "[49171 rows x 6 columns]"
      ]
     },
     "execution_count": 16,
     "metadata": {},
     "output_type": "execute_result"
    }
   ],
   "source": [
    "cusnum['trips'] = cusnum['Transaction ID'].apply(lambda x: checkFunc(x))\n",
    "cusnum['trips'] = pd.DataFrame(cusnum['trips'])\n",
    "cusnum\n"
   ]
  },
  {
   "cell_type": "markdown",
   "metadata": {},
   "source": [
    "### Groupby trips"
   ]
  },
  {
   "cell_type": "code",
   "execution_count": 17,
   "metadata": {},
   "outputs": [
    {
     "data": {
      "text/html": [
       "<div>\n",
       "<style scoped>\n",
       "    .dataframe tbody tr th:only-of-type {\n",
       "        vertical-align: middle;\n",
       "    }\n",
       "\n",
       "    .dataframe tbody tr th {\n",
       "        vertical-align: top;\n",
       "    }\n",
       "\n",
       "    .dataframe thead th {\n",
       "        text-align: right;\n",
       "    }\n",
       "</style>\n",
       "<table border=\"1\" class=\"dataframe\">\n",
       "  <thead>\n",
       "    <tr style=\"text-align: right;\">\n",
       "      <th></th>\n",
       "      <th>trips</th>\n",
       "      <th>Age</th>\n",
       "      <th>Income (USD/Month)</th>\n",
       "      <th>Profit</th>\n",
       "      <th>Transaction ID</th>\n",
       "    </tr>\n",
       "  </thead>\n",
       "  <tbody>\n",
       "    <tr>\n",
       "      <th>0</th>\n",
       "      <td>10 &lt; trips</td>\n",
       "      <td>35.40</td>\n",
       "      <td>15097.27</td>\n",
       "      <td>3496.31</td>\n",
       "      <td>16623</td>\n",
       "    </tr>\n",
       "    <tr>\n",
       "      <th>1</th>\n",
       "      <td>2 &lt; trips &lt;5</td>\n",
       "      <td>35.47</td>\n",
       "      <td>14814.31</td>\n",
       "      <td>3280.45</td>\n",
       "      <td>7739</td>\n",
       "    </tr>\n",
       "    <tr>\n",
       "      <th>2</th>\n",
       "      <td>4 &lt; trips &lt;10</td>\n",
       "      <td>35.01</td>\n",
       "      <td>15078.95</td>\n",
       "      <td>2571.24</td>\n",
       "      <td>5518</td>\n",
       "    </tr>\n",
       "    <tr>\n",
       "      <th>3</th>\n",
       "      <td>trips &lt; 3</td>\n",
       "      <td>35.38</td>\n",
       "      <td>15007.94</td>\n",
       "      <td>2902.02</td>\n",
       "      <td>19291</td>\n",
       "    </tr>\n",
       "  </tbody>\n",
       "</table>\n",
       "</div>"
      ],
      "text/plain": [
       "           trips   Age  Income (USD/Month)  Profit  Transaction ID\n",
       "0     10 < trips 35.40            15097.27 3496.31           16623\n",
       "1   2 < trips <5 35.47            14814.31 3280.45            7739\n",
       "2  4 < trips <10 35.01            15078.95 2571.24            5518\n",
       "3     trips < 3  35.38            15007.94 2902.02           19291"
      ]
     },
     "execution_count": 17,
     "metadata": {},
     "output_type": "execute_result"
    }
   ],
   "source": [
    "real_value = cusnum.groupby(['trips']).agg({'Age':'mean','Income (USD/Month)':'mean',\\\n",
    "                                           'Profit':'mean', 'Transaction ID': 'count'}).reset_index()\n",
    "real_value"
   ]
  },
  {
   "cell_type": "code",
   "execution_count": 18,
   "metadata": {},
   "outputs": [
    {
     "data": {
      "text/html": [
       "<div>\n",
       "<style scoped>\n",
       "    .dataframe tbody tr th:only-of-type {\n",
       "        vertical-align: middle;\n",
       "    }\n",
       "\n",
       "    .dataframe tbody tr th {\n",
       "        vertical-align: top;\n",
       "    }\n",
       "\n",
       "    .dataframe thead th {\n",
       "        text-align: right;\n",
       "    }\n",
       "</style>\n",
       "<table border=\"1\" class=\"dataframe\">\n",
       "  <thead>\n",
       "    <tr style=\"text-align: right;\">\n",
       "      <th></th>\n",
       "      <th>trips</th>\n",
       "      <th>Age</th>\n",
       "      <th>Income (USD/Month)</th>\n",
       "      <th>Profit</th>\n",
       "      <th>Transaction ID</th>\n",
       "    </tr>\n",
       "  </thead>\n",
       "  <tbody>\n",
       "    <tr>\n",
       "      <th>0</th>\n",
       "      <td>10 &lt; trips</td>\n",
       "      <td>0.25</td>\n",
       "      <td>0.25</td>\n",
       "      <td>0.29</td>\n",
       "      <td>0.34</td>\n",
       "    </tr>\n",
       "    <tr>\n",
       "      <th>1</th>\n",
       "      <td>2 &lt; trips &lt;5</td>\n",
       "      <td>0.25</td>\n",
       "      <td>0.25</td>\n",
       "      <td>0.27</td>\n",
       "      <td>0.16</td>\n",
       "    </tr>\n",
       "    <tr>\n",
       "      <th>2</th>\n",
       "      <td>4 &lt; trips &lt;10</td>\n",
       "      <td>0.25</td>\n",
       "      <td>0.25</td>\n",
       "      <td>0.21</td>\n",
       "      <td>0.11</td>\n",
       "    </tr>\n",
       "    <tr>\n",
       "      <th>3</th>\n",
       "      <td>trips &lt; 3</td>\n",
       "      <td>0.25</td>\n",
       "      <td>0.25</td>\n",
       "      <td>0.24</td>\n",
       "      <td>0.39</td>\n",
       "    </tr>\n",
       "  </tbody>\n",
       "</table>\n",
       "</div>"
      ],
      "text/plain": [
       "           trips  Age  Income (USD/Month)  Profit  Transaction ID\n",
       "0     10 < trips 0.25                0.25    0.29            0.34\n",
       "1   2 < trips <5 0.25                0.25    0.27            0.16\n",
       "2  4 < trips <10 0.25                0.25    0.21            0.11\n",
       "3     trips < 3  0.25                0.25    0.24            0.39"
      ]
     },
     "execution_count": 18,
     "metadata": {},
     "output_type": "execute_result"
    }
   ],
   "source": [
    "perc = cusnum.groupby(['trips']).agg({'Age':'mean','Income (USD/Month)':'mean',\\\n",
    "                                           'Profit':'mean', 'Transaction ID': 'count'}).transform(lambda x: x/sum(x)).reset_index()\n",
    "perc"
   ]
  },
  {
   "cell_type": "code",
   "execution_count": 49,
   "metadata": {},
   "outputs": [
    {
     "data": {
      "text/html": [
       "<div>\n",
       "<style scoped>\n",
       "    .dataframe tbody tr th:only-of-type {\n",
       "        vertical-align: middle;\n",
       "    }\n",
       "\n",
       "    .dataframe tbody tr th {\n",
       "        vertical-align: top;\n",
       "    }\n",
       "\n",
       "    .dataframe thead th {\n",
       "        text-align: right;\n",
       "    }\n",
       "</style>\n",
       "<table border=\"1\" class=\"dataframe\">\n",
       "  <thead>\n",
       "    <tr style=\"text-align: right;\">\n",
       "      <th></th>\n",
       "      <th>Payment_Mode</th>\n",
       "      <th>Age</th>\n",
       "      <th>Income (USD/Month)</th>\n",
       "      <th>Profit</th>\n",
       "      <th>Transaction ID</th>\n",
       "    </tr>\n",
       "  </thead>\n",
       "  <tbody>\n",
       "    <tr>\n",
       "      <th>0</th>\n",
       "      <td>Card</td>\n",
       "      <td>35.38</td>\n",
       "      <td>15085.42</td>\n",
       "      <td>861499006.94</td>\n",
       "      <td>263991</td>\n",
       "    </tr>\n",
       "    <tr>\n",
       "      <th>1</th>\n",
       "      <td>Cash</td>\n",
       "      <td>35.33</td>\n",
       "      <td>15102.31</td>\n",
       "      <td>577864720.57</td>\n",
       "      <td>176107</td>\n",
       "    </tr>\n",
       "  </tbody>\n",
       "</table>\n",
       "</div>"
      ],
      "text/plain": [
       "  Payment_Mode   Age  Income (USD/Month)       Profit  Transaction ID\n",
       "0         Card 35.38            15085.42 861499006.94          263991\n",
       "1         Cash 35.33            15102.31 577864720.57          176107"
      ]
     },
     "execution_count": 49,
     "metadata": {},
     "output_type": "execute_result"
    }
   ],
   "source": [
    "cusnum = tcc.groupby(['Payment_Mode']).agg({'Age':'mean','Income (USD/Month)':'mean',\\\n",
    "                                           'Profit':'sum', 'Transaction ID': 'size'}).reset_index()\n",
    "cusnum"
   ]
  },
  {
   "cell_type": "markdown",
   "metadata": {},
   "source": [
    "#### Groupby trips - Pie chart"
   ]
  },
  {
   "cell_type": "code",
   "execution_count": 19,
   "metadata": {},
   "outputs": [
    {
     "data": {
      "text/plain": [
       "(-1.1808044748660087,\n",
       " 1.2526286199448204,\n",
       " -1.1832358145901378,\n",
       " 1.2518989863766914)"
      ]
     },
     "execution_count": 19,
     "metadata": {},
     "output_type": "execute_result"
    },
    {
     "data": {
      "image/png": "[encoded data removed]",
      "text/plain": [
       "<Figure size 576x576 with 1 Axes>"
      ]
     },
     "metadata": {},
     "output_type": "display_data"
    }
   ],
   "source": [
    "import matplotlib.pyplot as plt\n",
    "\n",
    "# Pie chart, where the slices will be ordered and plotted counter-clockwise:\n",
    "labels = perc.iloc[:,0]\n",
    "sizes = perc.iloc[:,1]\n",
    "explode = (0, 0.1,.1,.2)  # only \"explode\" the 2nd slice (i.e. 'Hogs')\n",
    "plt.figure(figsize=(8,8))\n",
    "plt.pie(sizes, explode=explode, labels=labels, autopct='%1.1f%%',\n",
    "        shadow=True, startangle=90)\n",
    "plt.title('Percentage of Customers - Trips (Yellow company) ', fontsize=20)\n",
    "\n",
    "plt.axis('equal')"
   ]
  },
  {
   "cell_type": "code",
   "execution_count": null,
   "metadata": {
    "scrolled": true
   },
   "outputs": [],
   "source": [
    "import matplotlib.pyplot as plt\n",
    "\n",
    "# Pie chart, where the slices will be ordered and plotted counter-clockwise:\n",
    "labels = perc.iloc[:,0]\n",
    "sizes = perc.iloc[:,3]\n",
    "explode = (0, 0.1,.1,.2)  # only \"explode\" the 2nd slice (i.e. 'Hogs')\n",
    "plt.figure(figsize=(8,8))\n",
    "plt.pie(sizes, explode=explode, labels=labels, autopct='%1.1f%%',\n",
    "        shadow=True, startangle=90)\n",
    "plt.title('Percentage of Profit - Trips (Yellow company) ', fontsize=20)\n",
    "\n",
    "plt.axis('equal')"
   ]
  },
  {
   "cell_type": "code",
   "execution_count": null,
   "metadata": {},
   "outputs": [],
   "source": [
    "import matplotlib.pyplot as plt\n",
    "\n",
    "# Pie chart, where the slices will be ordered and plotted counter-clockwise:\n",
    "labels = perc.iloc[:,0]\n",
    "sizes = perc.iloc[:,3]\n",
    "explode = (0, 0.1,.1,.2)  # only \"explode\" the 2nd slice (i.e. 'Hogs')\n",
    "plt.figure(figsize=(8,8))\n",
    "plt.pie(sizes, explode=explode, labels=labels, autopct='%1.1f%%',\n",
    "        shadow=True, startangle=90)\n",
    "plt.title('Percentage of Profit - Trips (Pink company) ', fontsize=20)\n",
    "\n",
    "plt.axis('equal')"
   ]
  },
  {
   "cell_type": "code",
   "execution_count": null,
   "metadata": {},
   "outputs": [],
   "source": []
  },
  {
   "cell_type": "code",
   "execution_count": null,
   "metadata": {},
   "outputs": [],
   "source": []
  },
  {
   "cell_type": "code",
   "execution_count": null,
   "metadata": {},
   "outputs": [],
   "source": []
  },
  {
   "cell_type": "code",
   "execution_count": 20,
   "metadata": {},
   "outputs": [
    {
     "data": {
      "text/html": [
       "<div>\n",
       "<style scoped>\n",
       "    .dataframe tbody tr th:only-of-type {\n",
       "        vertical-align: middle;\n",
       "    }\n",
       "\n",
       "    .dataframe tbody tr th {\n",
       "        vertical-align: top;\n",
       "    }\n",
       "\n",
       "    .dataframe thead th {\n",
       "        text-align: right;\n",
       "    }\n",
       "</style>\n",
       "<table border=\"1\" class=\"dataframe\">\n",
       "  <thead>\n",
       "    <tr style=\"text-align: right;\">\n",
       "      <th></th>\n",
       "      <th>trips</th>\n",
       "      <th>Age</th>\n",
       "      <th>Income (USD/Month)</th>\n",
       "      <th>Profit</th>\n",
       "      <th>Transaction ID</th>\n",
       "    </tr>\n",
       "  </thead>\n",
       "  <tbody>\n",
       "    <tr>\n",
       "      <th>0</th>\n",
       "      <td>10 &lt; trips</td>\n",
       "      <td>35.40</td>\n",
       "      <td>15097.27</td>\n",
       "      <td>3496.31</td>\n",
       "      <td>16623</td>\n",
       "    </tr>\n",
       "    <tr>\n",
       "      <th>1</th>\n",
       "      <td>2 &lt; trips &lt;5</td>\n",
       "      <td>35.47</td>\n",
       "      <td>14814.31</td>\n",
       "      <td>3280.45</td>\n",
       "      <td>7739</td>\n",
       "    </tr>\n",
       "    <tr>\n",
       "      <th>2</th>\n",
       "      <td>4 &lt; trips &lt;10</td>\n",
       "      <td>35.01</td>\n",
       "      <td>15078.95</td>\n",
       "      <td>2571.24</td>\n",
       "      <td>5518</td>\n",
       "    </tr>\n",
       "    <tr>\n",
       "      <th>3</th>\n",
       "      <td>trips &lt; 3</td>\n",
       "      <td>35.38</td>\n",
       "      <td>15007.94</td>\n",
       "      <td>2902.02</td>\n",
       "      <td>19291</td>\n",
       "    </tr>\n",
       "  </tbody>\n",
       "</table>\n",
       "</div>"
      ],
      "text/plain": [
       "           trips   Age  Income (USD/Month)  Profit  Transaction ID\n",
       "0     10 < trips 35.40            15097.27 3496.31           16623\n",
       "1   2 < trips <5 35.47            14814.31 3280.45            7739\n",
       "2  4 < trips <10 35.01            15078.95 2571.24            5518\n",
       "3     trips < 3  35.38            15007.94 2902.02           19291"
      ]
     },
     "execution_count": 20,
     "metadata": {},
     "output_type": "execute_result"
    }
   ],
   "source": [
    "real_value = cusnum.groupby(['trips']).agg({'Age':'mean','Income (USD/Month)':'mean',\\\n",
    "                                           'Profit':'mean', 'Transaction ID': 'count'}).reset_index()\n",
    "real_value"
   ]
  },
  {
   "cell_type": "code",
   "execution_count": 21,
   "metadata": {},
   "outputs": [],
   "source": [
    "real_value['Income (USD/Month)'] = pd.to_numeric(real_value['Income (USD/Month)'])\n",
    "real_value['Profit'] = pd.to_numeric(real_value['Profit'])\n"
   ]
  },
  {
   "cell_type": "markdown",
   "metadata": {},
   "source": [
    "#### Groupby trips - Line chart"
   ]
  },
  {
   "cell_type": "code",
   "execution_count": 22,
   "metadata": {
    "scrolled": false
   },
   "outputs": [
    {
     "data": {
      "image/png": "[encoded data removed]",
      "text/plain": [
       "<Figure size 1800x720 with 1 Axes>"
      ]
     },
     "metadata": {
      "needs_background": "light"
     },
     "output_type": "display_data"
    }
   ],
   "source": [
    "\n",
    "labels = real_value['trips']\n",
    "\n",
    "\n",
    "x = np.arange(len(labels))  # the label locations\n",
    "width = .2 # the width of the bars\n",
    "\n",
    "fig, ax = plt.subplots(figsize=(25,10))\n",
    "rects1 = ax.bar(x - width, real_value['Income (USD/Month)'],width,  label='Income')\n",
    "rects2 = ax.bar(x , real_value['Transaction ID'],width, label='Number of transaction')\n",
    "rects3 = ax.bar(x + width, real_value['Profit'],width, label='Profit')\n",
    "\n",
    "\n",
    "# Add some text for labels, title and custom x-axis tick labels, etc.\n",
    "ax.set_ylabel('', fontsize=20)\n",
    "ax.set_title('Profit, Transactions and profit based on thr group of trips', fontsize=20)\n",
    "ax.set_xticks(x)\n",
    "ax.set_xticklabels(labels)\n",
    "ax.legend(fontsize=20)\n",
    "ax.ticklabel_format(axis=\"y\",useOffset=False,style='plain', useLocale=True)\n",
    "plt.xticks( rotation=45,fontsize=18, ha=\"right\")\n",
    "\n",
    "    \n",
    "fig.tight_layout()\n",
    "\n",
    "plt.show()"
   ]
  },
  {
   "cell_type": "code",
   "execution_count": null,
   "metadata": {},
   "outputs": [],
   "source": []
  },
  {
   "cell_type": "markdown",
   "metadata": {},
   "source": [
    "### Groupby Date "
   ]
  },
  {
   "cell_type": "code",
   "execution_count": 31,
   "metadata": {},
   "outputs": [
    {
     "ename": "SpecificationError",
     "evalue": "Column(s) ['KM Traveled'] do not exist",
     "output_type": "error",
     "traceback": [
      "\u001b[1;31m---------------------------------------------------------------------------\u001b[0m",
      "\u001b[1;31mSpecificationError\u001b[0m                        Traceback (most recent call last)",
      "\u001b[1;32m<ipython-input-31-8b4258d0fe72>\u001b[0m in \u001b[0;36m<module>\u001b[1;34m\u001b[0m\n\u001b[1;32m----> 1\u001b[1;33m tcc_mean = tcc.groupby(['Date']).agg({'KM Traveled':'mean','Income (USD/Month)':'mean',\\\n\u001b[0m\u001b[0;32m      2\u001b[0m                                            'Profit':'mean', 'Transaction ID': 'size'}).reset_index()\n\u001b[0;32m      3\u001b[0m \u001b[1;33m\u001b[0m\u001b[0m\n\u001b[0;32m      4\u001b[0m pink_mean = pink.groupby(['Date']).agg({'KM Traveled':'mean','Income (USD/Month)':'mean',\\\n\u001b[0;32m      5\u001b[0m                                            'Profit':'mean', 'Transaction ID': 'size'}).reset_index()\n",
      "\u001b[1;32mC:\\ProgramData\\Anaconda3\\lib\\site-packages\\pandas\\core\\groupby\\generic.py\u001b[0m in \u001b[0;36maggregate\u001b[1;34m(self, func, engine, engine_kwargs, *args, **kwargs)\u001b[0m\n\u001b[0;32m    949\u001b[0m         \u001b[0mfunc\u001b[0m \u001b[1;33m=\u001b[0m \u001b[0mmaybe_mangle_lambdas\u001b[0m\u001b[1;33m(\u001b[0m\u001b[0mfunc\u001b[0m\u001b[1;33m)\u001b[0m\u001b[1;33m\u001b[0m\u001b[1;33m\u001b[0m\u001b[0m\n\u001b[0;32m    950\u001b[0m \u001b[1;33m\u001b[0m\u001b[0m\n\u001b[1;32m--> 951\u001b[1;33m         \u001b[0mresult\u001b[0m\u001b[1;33m,\u001b[0m \u001b[0mhow\u001b[0m \u001b[1;33m=\u001b[0m \u001b[0mself\u001b[0m\u001b[1;33m.\u001b[0m\u001b[0m_aggregate\u001b[0m\u001b[1;33m(\u001b[0m\u001b[0mfunc\u001b[0m\u001b[1;33m,\u001b[0m \u001b[1;33m*\u001b[0m\u001b[0margs\u001b[0m\u001b[1;33m,\u001b[0m \u001b[1;33m**\u001b[0m\u001b[0mkwargs\u001b[0m\u001b[1;33m)\u001b[0m\u001b[1;33m\u001b[0m\u001b[1;33m\u001b[0m\u001b[0m\n\u001b[0m\u001b[0;32m    952\u001b[0m         \u001b[1;32mif\u001b[0m \u001b[0mhow\u001b[0m \u001b[1;32mis\u001b[0m \u001b[1;32mNone\u001b[0m\u001b[1;33m:\u001b[0m\u001b[1;33m\u001b[0m\u001b[1;33m\u001b[0m\u001b[0m\n\u001b[0;32m    953\u001b[0m             \u001b[1;32mreturn\u001b[0m \u001b[0mresult\u001b[0m\u001b[1;33m\u001b[0m\u001b[1;33m\u001b[0m\u001b[0m\n",
      "\u001b[1;32mC:\\ProgramData\\Anaconda3\\lib\\site-packages\\pandas\\core\\base.py\u001b[0m in \u001b[0;36m_aggregate\u001b[1;34m(self, arg, *args, **kwargs)\u001b[0m\n\u001b[0;32m    352\u001b[0m                 ) != len(keys):\n\u001b[0;32m    353\u001b[0m                     \u001b[0mcols\u001b[0m \u001b[1;33m=\u001b[0m \u001b[0msorted\u001b[0m\u001b[1;33m(\u001b[0m\u001b[0mset\u001b[0m\u001b[1;33m(\u001b[0m\u001b[0mkeys\u001b[0m\u001b[1;33m)\u001b[0m \u001b[1;33m-\u001b[0m \u001b[0mset\u001b[0m\u001b[1;33m(\u001b[0m\u001b[0mobj\u001b[0m\u001b[1;33m.\u001b[0m\u001b[0mcolumns\u001b[0m\u001b[1;33m.\u001b[0m\u001b[0mintersection\u001b[0m\u001b[1;33m(\u001b[0m\u001b[0mkeys\u001b[0m\u001b[1;33m)\u001b[0m\u001b[1;33m)\u001b[0m\u001b[1;33m)\u001b[0m\u001b[1;33m\u001b[0m\u001b[1;33m\u001b[0m\u001b[0m\n\u001b[1;32m--> 354\u001b[1;33m                     \u001b[1;32mraise\u001b[0m \u001b[0mSpecificationError\u001b[0m\u001b[1;33m(\u001b[0m\u001b[1;34mf\"Column(s) {cols} do not exist\"\u001b[0m\u001b[1;33m)\u001b[0m\u001b[1;33m\u001b[0m\u001b[1;33m\u001b[0m\u001b[0m\n\u001b[0m\u001b[0;32m    355\u001b[0m \u001b[1;33m\u001b[0m\u001b[0m\n\u001b[0;32m    356\u001b[0m             \u001b[1;32mfrom\u001b[0m \u001b[0mpandas\u001b[0m\u001b[1;33m.\u001b[0m\u001b[0mcore\u001b[0m\u001b[1;33m.\u001b[0m\u001b[0mreshape\u001b[0m\u001b[1;33m.\u001b[0m\u001b[0mconcat\u001b[0m \u001b[1;32mimport\u001b[0m \u001b[0mconcat\u001b[0m\u001b[1;33m\u001b[0m\u001b[1;33m\u001b[0m\u001b[0m\n",
      "\u001b[1;31mSpecificationError\u001b[0m: Column(s) ['KM Traveled'] do not exist"
     ]
    }
   ],
   "source": [
    "tcc_mean = tcc.groupby(['Date']).agg({'KM Traveled':'mean','Income (USD/Month)':'mean',\\\n",
    "                                           'Profit':'mean', 'Transaction ID': 'size'}).reset_index()\n",
    "\n",
    "pink_mean = pink.groupby(['Date']).agg({'KM Traveled':'mean','Income (USD/Month)':'mean',\\\n",
    "                                           'Profit':'mean', 'Transaction ID': 'size'}).reset_index()\n",
    "\n",
    "yellow_mean = yellow.groupby(['Date']).agg({'KM Traveled':'mean','Income (USD/Month)':'mean',\\\n",
    "                                           'Profit':'mean', 'Transaction ID': 'size'}).reset_index()\n"
   ]
  },
  {
   "cell_type": "code",
   "execution_count": 28,
   "metadata": {},
   "outputs": [],
   "source": [
    "tcc_sum = tcc.groupby(['Customer ID']).agg({'KM Traveled':'sum','Income (USD/Month)':'mean',\\\n",
    "                                           'Profit':'sum', 'Transaction ID': 'size'}).reset_index()\n",
    "\n",
    "pink_sum = pink.groupby(['Customer ID']).agg({'KM Traveled':'sum','Income (USD/Month)':'mean',\\\n",
    "                                           'Profit':'sum', 'Transaction ID': 'size'}).reset_index()\n",
    "\n",
    "yellow_sum = yellow.groupby(['Customer ID']).agg({'KM Traveled':'sum','Income (USD/Month)':'mean',\\\n",
    "                                           'Profit':'sum', 'Transaction ID': 'size'}).reset_index()\n"
   ]
  },
  {
   "cell_type": "markdown",
   "metadata": {},
   "source": [
    "#### Seasonal poltting"
   ]
  },
  {
   "cell_type": "code",
   "execution_count": null,
   "metadata": {},
   "outputs": [],
   "source": [
    "from statsmodels.tsa.seasonal import seasonal_decompose\n",
    "from dateutil.parser import parse\n",
    "\n",
    "# Import Data\n",
    "\n",
    "df = date_pr.loc[:,['Date','Profit']]\n",
    "df.set_index('Date', inplace=True)\n",
    "\n",
    "# Decompose \n",
    "result = seasonal_decompose(df['Profit'], model='multiplicative') # or additive\n",
    "\n",
    "# Plot\n",
    "plt.rcParams.update({'figure.figsize': (20,20), 'font.size': 15})\n",
    "plt.rcParams['lines.linewidth'] = 2\n",
    "plt.rcParams['axes.prop_cycle'] = plt.cycler(color='g')\n",
    "\n",
    "# default cycle is: `['b', 'g', 'r', 'c', 'm', 'y', 'k']`\n",
    "#matplotlib.rcParams.update({'font.size': 15})\n",
    "result.plot()\n",
    "#result.plot().suptitle('Time Series Decomposition of Distance Travelled')\n",
    "plt.show()"
   ]
  },
  {
   "cell_type": "markdown",
   "metadata": {},
   "source": [
    "### Distance travelled by dates "
   ]
  },
  {
   "cell_type": "code",
   "execution_count": 33,
   "metadata": {
    "scrolled": true
   },
   "outputs": [
    {
     "data": {
      "text/plain": [
       "count   32330.00\n",
       "mean       59.11\n",
       "std        53.58\n",
       "min         1.90\n",
       "25%        22.68\n",
       "50%        39.96\n",
       "75%        79.46\n",
       "max       457.52\n",
       "Name: KM Travelled, dtype: float64"
      ]
     },
     "execution_count": 33,
     "metadata": {},
     "output_type": "execute_result"
    }
   ],
   "source": [
    "pink_sum['KM Travelled'].describe()\n"
   ]
  },
  {
   "cell_type": "code",
   "execution_count": 34,
   "metadata": {
    "scrolled": true
   },
   "outputs": [
    {
     "data": {
      "text/html": [
       "<div>\n",
       "<style scoped>\n",
       "    .dataframe tbody tr th:only-of-type {\n",
       "        vertical-align: middle;\n",
       "    }\n",
       "\n",
       "    .dataframe tbody tr th {\n",
       "        vertical-align: top;\n",
       "    }\n",
       "\n",
       "    .dataframe thead th {\n",
       "        text-align: right;\n",
       "    }\n",
       "</style>\n",
       "<table border=\"1\" class=\"dataframe\">\n",
       "  <thead>\n",
       "    <tr style=\"text-align: right;\">\n",
       "      <th></th>\n",
       "      <th>Customer ID</th>\n",
       "      <th>KM Travelled</th>\n",
       "      <th>Income (USD/Month)</th>\n",
       "      <th>Profit</th>\n",
       "      <th>Transaction ID</th>\n",
       "    </tr>\n",
       "  </thead>\n",
       "  <tbody>\n",
       "    <tr>\n",
       "      <th>125</th>\n",
       "      <td>126</td>\n",
       "      <td>1231.77</td>\n",
       "      <td>10637</td>\n",
       "      <td>508656.43</td>\n",
       "      <td>45</td>\n",
       "    </tr>\n",
       "  </tbody>\n",
       "</table>\n",
       "</div>"
      ],
      "text/plain": [
       "     Customer ID  KM Travelled  Income (USD/Month)    Profit  Transaction ID\n",
       "125          126       1231.77               10637 508656.43              45"
      ]
     },
     "execution_count": 34,
     "metadata": {},
     "output_type": "execute_result"
    }
   ],
   "source": [
    "yellow_sum[yellow_sum['KM Travelled']==1231.77]\n"
   ]
  },
  {
   "cell_type": "code",
   "execution_count": null,
   "metadata": {},
   "outputs": [],
   "source": [
    "tcc[tcc['Customer ID']==126]\n"
   ]
  },
  {
   "cell_type": "code",
   "execution_count": 32,
   "metadata": {},
   "outputs": [],
   "source": [
    "def checkFunc(x):\n",
    "    if x < 20:\n",
    "        return 'Distance travelled < 20'\n",
    "    elif x < 40:\n",
    "        return '20 < Distance travelled < 40'\n",
    "    elif x < 60:\n",
    "        return '40 < Distance travelled < 60'\n",
    "    elif x < 80:\n",
    "        return '60 < Distance travelled < 80'\n",
    "    elif x < 100:\n",
    "        return '80 < Distance travelled < 100'\n",
    "    else:\n",
    "        return '100 < Distance travelled'"
   ]
  },
  {
   "cell_type": "code",
   "execution_count": 35,
   "metadata": {
    "scrolled": true
   },
   "outputs": [
    {
     "data": {
      "text/html": [
       "<div>\n",
       "<style scoped>\n",
       "    .dataframe tbody tr th:only-of-type {\n",
       "        vertical-align: middle;\n",
       "    }\n",
       "\n",
       "    .dataframe tbody tr th {\n",
       "        vertical-align: top;\n",
       "    }\n",
       "\n",
       "    .dataframe thead th {\n",
       "        text-align: right;\n",
       "    }\n",
       "</style>\n",
       "<table border=\"1\" class=\"dataframe\">\n",
       "  <thead>\n",
       "    <tr style=\"text-align: right;\">\n",
       "      <th></th>\n",
       "      <th>Customer ID</th>\n",
       "      <th>KM Travelled</th>\n",
       "      <th>Income (USD/Month)</th>\n",
       "      <th>Profit</th>\n",
       "      <th>Transaction ID</th>\n",
       "      <th>travelled</th>\n",
       "    </tr>\n",
       "  </thead>\n",
       "  <tbody>\n",
       "    <tr>\n",
       "      <th>0</th>\n",
       "      <td>1</td>\n",
       "      <td>708.33</td>\n",
       "      <td>16359</td>\n",
       "      <td>243625.76</td>\n",
       "      <td>29</td>\n",
       "      <td>100 &lt; Distance travelled</td>\n",
       "    </tr>\n",
       "    <tr>\n",
       "      <th>1</th>\n",
       "      <td>2</td>\n",
       "      <td>932.37</td>\n",
       "      <td>12069</td>\n",
       "      <td>350627.55</td>\n",
       "      <td>40</td>\n",
       "      <td>100 &lt; Distance travelled</td>\n",
       "    </tr>\n",
       "    <tr>\n",
       "      <th>2</th>\n",
       "      <td>3</td>\n",
       "      <td>1037.41</td>\n",
       "      <td>12968</td>\n",
       "      <td>329011.47</td>\n",
       "      <td>46</td>\n",
       "      <td>100 &lt; Distance travelled</td>\n",
       "    </tr>\n",
       "    <tr>\n",
       "      <th>3</th>\n",
       "      <td>4</td>\n",
       "      <td>646.92</td>\n",
       "      <td>13803</td>\n",
       "      <td>249762.82</td>\n",
       "      <td>26</td>\n",
       "      <td>100 &lt; Distance travelled</td>\n",
       "    </tr>\n",
       "    <tr>\n",
       "      <th>4</th>\n",
       "      <td>5</td>\n",
       "      <td>732.08</td>\n",
       "      <td>9965</td>\n",
       "      <td>312032.02</td>\n",
       "      <td>31</td>\n",
       "      <td>100 &lt; Distance travelled</td>\n",
       "    </tr>\n",
       "    <tr>\n",
       "      <th>...</th>\n",
       "      <td>...</td>\n",
       "      <td>...</td>\n",
       "      <td>...</td>\n",
       "      <td>...</td>\n",
       "      <td>...</td>\n",
       "      <td>...</td>\n",
       "    </tr>\n",
       "    <tr>\n",
       "      <th>49166</th>\n",
       "      <td>59996</td>\n",
       "      <td>61.72</td>\n",
       "      <td>16634</td>\n",
       "      <td>-679.02</td>\n",
       "      <td>4</td>\n",
       "      <td>60 &lt; Distance travelled &lt; 80</td>\n",
       "    </tr>\n",
       "    <tr>\n",
       "      <th>49167</th>\n",
       "      <td>59997</td>\n",
       "      <td>278.31</td>\n",
       "      <td>22352</td>\n",
       "      <td>16524.02</td>\n",
       "      <td>10</td>\n",
       "      <td>100 &lt; Distance travelled</td>\n",
       "    </tr>\n",
       "    <tr>\n",
       "      <th>49168</th>\n",
       "      <td>59998</td>\n",
       "      <td>233.73</td>\n",
       "      <td>5678</td>\n",
       "      <td>21823.50</td>\n",
       "      <td>9</td>\n",
       "      <td>100 &lt; Distance travelled</td>\n",
       "    </tr>\n",
       "    <tr>\n",
       "      <th>49169</th>\n",
       "      <td>59999</td>\n",
       "      <td>163.63</td>\n",
       "      <td>24577</td>\n",
       "      <td>7854.71</td>\n",
       "      <td>8</td>\n",
       "      <td>100 &lt; Distance travelled</td>\n",
       "    </tr>\n",
       "    <tr>\n",
       "      <th>49170</th>\n",
       "      <td>60000</td>\n",
       "      <td>421.20</td>\n",
       "      <td>20303</td>\n",
       "      <td>40615.58</td>\n",
       "      <td>18</td>\n",
       "      <td>100 &lt; Distance travelled</td>\n",
       "    </tr>\n",
       "  </tbody>\n",
       "</table>\n",
       "<p>49171 rows × 6 columns</p>\n",
       "</div>"
      ],
      "text/plain": [
       "       Customer ID  KM Travelled  Income (USD/Month)    Profit  \\\n",
       "0                1        708.33               16359 243625.76   \n",
       "1                2        932.37               12069 350627.55   \n",
       "2                3       1037.41               12968 329011.47   \n",
       "3                4        646.92               13803 249762.82   \n",
       "4                5        732.08                9965 312032.02   \n",
       "...            ...           ...                 ...       ...   \n",
       "49166        59996         61.72               16634   -679.02   \n",
       "49167        59997        278.31               22352  16524.02   \n",
       "49168        59998        233.73                5678  21823.50   \n",
       "49169        59999        163.63               24577   7854.71   \n",
       "49170        60000        421.20               20303  40615.58   \n",
       "\n",
       "       Transaction ID                     travelled  \n",
       "0                  29      100 < Distance travelled  \n",
       "1                  40      100 < Distance travelled  \n",
       "2                  46      100 < Distance travelled  \n",
       "3                  26      100 < Distance travelled  \n",
       "4                  31      100 < Distance travelled  \n",
       "...               ...                           ...  \n",
       "49166               4  60 < Distance travelled < 80  \n",
       "49167              10      100 < Distance travelled  \n",
       "49168               9      100 < Distance travelled  \n",
       "49169               8      100 < Distance travelled  \n",
       "49170              18      100 < Distance travelled  \n",
       "\n",
       "[49171 rows x 6 columns]"
      ]
     },
     "execution_count": 35,
     "metadata": {},
     "output_type": "execute_result"
    }
   ],
   "source": [
    "tcc_sum['travelled'] = tcc_sum['KM Travelled'].apply(lambda x: checkFunc(x))\n",
    "\n",
    "pink_sum['travelled'] = pink_sum['KM Travelled'].apply(lambda x: checkFunc(x))\n",
    "\n",
    "yellow_sum['travelled'] = yellow_sum['KM Travelled'].apply(lambda x: checkFunc(x))\n",
    "\n",
    "tcc_sum\n"
   ]
  },
  {
   "cell_type": "code",
   "execution_count": 36,
   "metadata": {},
   "outputs": [],
   "source": [
    "tcc_sum_n = tcc_sum.groupby(['travelled']).agg({'KM Travelled':'mean','Income (USD/Month)':'mean',\\\n",
    "                                           'Profit':'sum', 'Transaction ID': 'size'}).reset_index()\n",
    "\n",
    "pink_sum_n = pink_sum.groupby(['travelled']).agg({'KM Travelled':'mean','Income (USD/Month)':'mean',\\\n",
    "                                           'Profit':'sum', 'Transaction ID': 'size'}).reset_index()\n",
    "\n",
    "yellow_sum_n = yellow_sum.groupby(['travelled']).agg({'KM Travelled':'mean','Income (USD/Month)':'mean',\\\n",
    "                                           'Profit':'sum', 'Transaction ID': 'size'}).reset_index()\n"
   ]
  },
  {
   "cell_type": "code",
   "execution_count": 37,
   "metadata": {
    "scrolled": true
   },
   "outputs": [
    {
     "data": {
      "text/html": [
       "<div>\n",
       "<style scoped>\n",
       "    .dataframe tbody tr th:only-of-type {\n",
       "        vertical-align: middle;\n",
       "    }\n",
       "\n",
       "    .dataframe tbody tr th {\n",
       "        vertical-align: top;\n",
       "    }\n",
       "\n",
       "    .dataframe thead th {\n",
       "        text-align: right;\n",
       "    }\n",
       "</style>\n",
       "<table border=\"1\" class=\"dataframe\">\n",
       "  <thead>\n",
       "    <tr style=\"text-align: right;\">\n",
       "      <th></th>\n",
       "      <th>travelled</th>\n",
       "      <th>KM Travelled</th>\n",
       "      <th>Income (USD/Month)</th>\n",
       "      <th>Profit</th>\n",
       "      <th>Transaction ID</th>\n",
       "    </tr>\n",
       "  </thead>\n",
       "  <tbody>\n",
       "    <tr>\n",
       "      <th>0</th>\n",
       "      <td>100 &lt; Distance travelled</td>\n",
       "      <td>355.47</td>\n",
       "      <td>15042.67</td>\n",
       "      <td>1293026379.74</td>\n",
       "      <td>19703</td>\n",
       "    </tr>\n",
       "    <tr>\n",
       "      <th>1</th>\n",
       "      <td>20 &lt; Distance travelled &lt; 40</td>\n",
       "      <td>30.52</td>\n",
       "      <td>14954.28</td>\n",
       "      <td>30077473.39</td>\n",
       "      <td>8460</td>\n",
       "    </tr>\n",
       "    <tr>\n",
       "      <th>2</th>\n",
       "      <td>40 &lt; Distance travelled &lt; 60</td>\n",
       "      <td>48.80</td>\n",
       "      <td>15061.76</td>\n",
       "      <td>38488679.73</td>\n",
       "      <td>5711</td>\n",
       "    </tr>\n",
       "    <tr>\n",
       "      <th>3</th>\n",
       "      <td>60 &lt; Distance travelled &lt; 80</td>\n",
       "      <td>69.55</td>\n",
       "      <td>14784.95</td>\n",
       "      <td>40300627.25</td>\n",
       "      <td>4001</td>\n",
       "    </tr>\n",
       "    <tr>\n",
       "      <th>4</th>\n",
       "      <td>80 &lt; Distance travelled &lt; 100</td>\n",
       "      <td>89.16</td>\n",
       "      <td>14865.56</td>\n",
       "      <td>33988827.57</td>\n",
       "      <td>2551</td>\n",
       "    </tr>\n",
       "    <tr>\n",
       "      <th>5</th>\n",
       "      <td>Distance travelled &lt; 20</td>\n",
       "      <td>7.32</td>\n",
       "      <td>15133.25</td>\n",
       "      <td>3481739.83</td>\n",
       "      <td>8745</td>\n",
       "    </tr>\n",
       "  </tbody>\n",
       "</table>\n",
       "</div>"
      ],
      "text/plain": [
       "                       travelled  KM Travelled  Income (USD/Month)  \\\n",
       "0       100 < Distance travelled        355.47            15042.67   \n",
       "1   20 < Distance travelled < 40         30.52            14954.28   \n",
       "2   40 < Distance travelled < 60         48.80            15061.76   \n",
       "3   60 < Distance travelled < 80         69.55            14784.95   \n",
       "4  80 < Distance travelled < 100         89.16            14865.56   \n",
       "5        Distance travelled < 20          7.32            15133.25   \n",
       "\n",
       "         Profit  Transaction ID  \n",
       "0 1293026379.74           19703  \n",
       "1   30077473.39            8460  \n",
       "2   38488679.73            5711  \n",
       "3   40300627.25            4001  \n",
       "4   33988827.57            2551  \n",
       "5    3481739.83            8745  "
      ]
     },
     "execution_count": 37,
     "metadata": {},
     "output_type": "execute_result"
    }
   ],
   "source": [
    "tcc_sum_n"
   ]
  },
  {
   "cell_type": "markdown",
   "metadata": {},
   "source": [
    "### Groupby distance travelled - Bar chart"
   ]
  },
  {
   "cell_type": "code",
   "execution_count": 47,
   "metadata": {},
   "outputs": [
    {
     "data": {
      "image/png": "[encoded data removed]",
      "text/plain": [
       "<Figure size 1800x720 with 1 Axes>"
      ]
     },
     "metadata": {
      "needs_background": "light"
     },
     "output_type": "display_data"
    }
   ],
   "source": [
    "\n",
    "labels = tcc_sum_n['travelled']\n",
    "\n",
    "\n",
    "x = np.arange(len(labels))  # the label locations\n",
    "width = .2 # the width of the bars\n",
    "\n",
    "fig, ax = plt.subplots(figsize=(25,10))\n",
    "rects1 = ax.bar(x - width, tcc_sum_n['Transaction ID'],width,  label='Market')\n",
    "rects2 = ax.bar(x , pink_sum_n['Transaction ID'],width, label='Pink Company')\n",
    "rects3 = ax.bar(x + width, yellow_sum_n['Transaction ID'],width, label='Yellow company')\n",
    "\n",
    "\n",
    "# Add some text for labels, title and custom x-axis tick labels, etc.\n",
    "ax.set_ylabel('', fontsize=20)\n",
    "ax.set_title('Total customers based on distance travelled (KM)', fontsize=20)\n",
    "ax.set_xticks(x)\n",
    "ax.set_xticklabels(labels)\n",
    "ax.legend(fontsize=20)\n",
    "ax.ticklabel_format(axis=\"y\",useOffset=False,style='plain', useLocale=True)\n",
    "plt.xticks( rotation=25,fontsize=18, ha=\"right\")\n",
    "\n",
    "    \n",
    "fig.tight_layout()\n",
    "\n",
    "plt.show()"
   ]
  },
  {
   "cell_type": "code",
   "execution_count": null,
   "metadata": {},
   "outputs": [],
   "source": [
    "\n",
    "df = date_pr.loc[:,['Date','Transaction ID']]\n",
    "df.set_index('Date', inplace=True)\n",
    "df=df.astype(float)\n",
    "df"
   ]
  },
  {
   "cell_type": "code",
   "execution_count": null,
   "metadata": {},
   "outputs": [],
   "source": [
    "for col in df.loc[:, :]:\n",
    "        df[col] = pd.to_numeric(df[col], errors='coerce').fillna(0) # coercing any errors to NaN"
   ]
  },
  {
   "cell_type": "code",
   "execution_count": null,
   "metadata": {},
   "outputs": [],
   "source": [
    "type(df.iloc[4,0])"
   ]
  },
  {
   "cell_type": "code",
   "execution_count": null,
   "metadata": {},
   "outputs": [],
   "source": []
  },
  {
   "cell_type": "code",
   "execution_count": null,
   "metadata": {},
   "outputs": [],
   "source": [
    "\n",
    "fig, ax = plt.subplots(1, 1, figsize=(12, 14))\n",
    "\n",
    "# Ensure that the axis ticks only show up on the bottom and left of the plot.\n",
    "# Ticks on the right and top of the plot are generally unnecessary.\n",
    "ax.xaxis.tick_bottom()\n",
    "ax.yaxis.tick_left()\n",
    "\n",
    "for column in df:\n",
    "    # Plot each line separately with its own color.\n",
    "   # column_rec_name = column.replace('\\n', '_').replace(' ', '_')\n",
    "\n",
    "    line, = ax.plot(df.index, df[\"Transaction ID\"],  lw=2.5)\n",
    "    \n",
    "plt.show()\n",
    "\n"
   ]
  }
 ],
 "metadata": {
  "kernelspec": {
   "display_name": "Python 3",
   "language": "python",
   "name": "python3"
  },
  "language_info": {
   "codemirror_mode": {
    "name": "ipython",
    "version": 3
   },
   "file_extension": ".py",
   "mimetype": "text/x-python",
   "name": "python",
   "nbconvert_exporter": "python",
   "pygments_lexer": "ipython3",
   "version": "3.8.5"
  }
 },
 "nbformat": 4,
 "nbformat_minor": 5
}
